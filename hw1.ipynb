{
 "cells": [
  {
   "cell_type": "markdown",
   "metadata": {},
   "source": [
    "**Общая информация**\n",
    "\n",
    "**Срок сдачи:** 21 октября 2020, 08:30 \n",
    "\n",
    "**Штраф за опоздание:** по 1 баллу за 24 часа задержки. Через 5 дней домашнее задание сгорает.\n",
    "\n",
    "При отправлении ДЗ указывайте фамилию в названии файла\n",
    "Присылать ДЗ необходимо в виде ссылки на свой github репозиторий на почту ml1.sphere@mail.ru с указанием темы в следующем формате:\n",
    "\n",
    "[ML0220, Задание 1] Фамилия Имя.\n",
    "\n",
    "Используйте данный Ipython Notebook при оформлении домашнего задания."
   ]
  },
  {
   "cell_type": "markdown",
   "metadata": {},
   "source": [
    "\n",
    "**Штрафные баллы:**\n",
    "\n",
    "1. Отсутствие фамилии в имени скрипта (скрипт должен называться по аналогии со stroykova_hw1.ipynb) -0.5 баллов\n",
    "2. Все строчки должны быть выполнены. Нужно, чтобы output команды можно было увидеть уже в git'е. В противном случае -0.5 баллов\n"
   ]
  },
  {
   "cell_type": "code",
   "execution_count": 1,
   "metadata": {},
   "outputs": [],
   "source": [
    "import numpy as np\n",
    "import matplotlib.pyplot as plt\n",
    "\n",
    "import seaborn as sns\n",
    "from sklearn import datasets\n",
    "from sklearn.base import BaseEstimator\n",
    "from sklearn.datasets import fetch_openml, fetch_20newsgroups\n",
    "\n",
    "from sklearn.model_selection import train_test_split\n",
    "from sklearn.neighbors import KNeighborsClassifier\n",
    "from sklearn.metrics import accuracy_score\n",
    "\n",
    "from scipy import spatial\n",
    "from sklearn.neighbors import KDTree\n",
    "from sklearn.feature_extraction.text import CountVectorizer\n",
    "from sklearn.feature_extraction.text import TfidfVectorizer\n",
    "from sklearn.model_selection import KFold\n",
    "from sklearn.model_selection import cross_val_score"
   ]
  },
  {
   "cell_type": "markdown",
   "metadata": {},
   "source": [
    "##### Задание 1 (1 балл)\n",
    "Реализовать KNN в классе MyKNeighborsClassifier (обязательное условие: точность не ниже sklearn реализации)\n",
    "Разберитесь самостоятельно, какая мера расстояния используется в KNeighborsClassifier дефолтно и реализуйте свой алгоритм именно с этой мерой. \n",
    "Для подсчета расстояний можно использовать функции [отсюда](https://docs.scipy.org/doc/scipy/reference/spatial.distance.html)"
   ]
  },
  {
   "cell_type": "code",
   "execution_count": 2,
   "metadata": {},
   "outputs": [],
   "source": [
    "class MyKNeighborsClassifier(BaseEstimator):\n",
    "    \n",
    "    def __init__(self, n_neighbors, algorithm='brute'):\n",
    "        self.neighb = n_neighbors\n",
    "        self.algorithm = algorithm\n",
    "    \n",
    "    def fit(self, X, y):\n",
    "        self.features = X\n",
    "        self.target = y\n",
    "        if(self.algorithm == 'kd_tree'):\n",
    "            self.tree = KDTree(self.features, leaf_size = 30)\n",
    "    \n",
    "    def predict(self, X, metric='minkowski', p=2):\n",
    "        X_standartized = X\n",
    "        if(self.algorithm == 'brute'):\n",
    "            if(metric=='minkowski'):\n",
    "                result = np.argpartition(spatial.distance.cdist(X_standartized, self.features,metric='minkowski', p=2),self.neighb, axis=1)[:,:self.neighb]\n",
    "                return np.apply_along_axis(lambda r: np.bincount(r).argmax(), 1, self.target[result])\n",
    "            elif(metric=='cosine'):\n",
    "                result = np.argpartition(spatial.distance.cdist(X_standartized, self.features,metric='cosine'),self.neighb, axis=1)[:,:self.neighb]\n",
    "                return np.apply_along_axis(lambda r: np.bincount(r).argmax(), 1, self.target[result])\n",
    "        elif(self.algorithm == 'kd_tree'):\n",
    "            ind = self.tree.query(X_standartized,k=self.neighb, return_distance=False)\n",
    "            return np.apply_along_axis(lambda r: np.bincount(r).argmax(), 1, self.target[ind])"
   ]
  },
  {
   "cell_type": "markdown",
   "metadata": {},
   "source": [
    "\n",
    "**IRIS**\n",
    "\n",
    "В библиотеке scikit-learn есть несколько датасетов из коробки. Один из них [Ирисы Фишера](https://ru.wikipedia.org/wiki/%D0%98%D1%80%D0%B8%D1%81%D1%8B_%D0%A4%D0%B8%D1%88%D0%B5%D1%80%D0%B0)"
   ]
  },
  {
   "cell_type": "code",
   "execution_count": 3,
   "metadata": {},
   "outputs": [],
   "source": [
    "iris = datasets.load_iris()"
   ]
  },
  {
   "cell_type": "code",
   "execution_count": 15,
   "metadata": {},
   "outputs": [],
   "source": [
    "iris.data = (iris.data - np.mean(iris.data, axis=0)) / np.std(iris.data, axis=0) #standartisation"
   ]
  },
  {
   "cell_type": "code",
   "execution_count": 16,
   "metadata": {},
   "outputs": [],
   "source": [
    "X_train, X_test, y_train, y_test = train_test_split(iris.data, iris.target, test_size=0.1, stratify=iris.target)"
   ]
  },
  {
   "cell_type": "code",
   "execution_count": 17,
   "metadata": {},
   "outputs": [],
   "source": [
    "clf = KNeighborsClassifier(n_neighbors=2, algorithm='brute')\n",
    "my_clf = MyKNeighborsClassifier(n_neighbors=2, algorithm='brute')"
   ]
  },
  {
   "cell_type": "code",
   "execution_count": 7,
   "metadata": {},
   "outputs": [],
   "source": [
    "clf.fit(X_train, y_train)\n",
    "my_clf.fit(X_train, y_train)"
   ]
  },
  {
   "cell_type": "code",
   "execution_count": 8,
   "metadata": {},
   "outputs": [
    {
     "name": "stdout",
     "output_type": "stream",
     "text": [
      "My own knn score =  1.0\n",
      "Sklearn knn score =  1.0\n"
     ]
    }
   ],
   "source": [
    "sklearn_pred = clf.predict(X_test)\n",
    "my_clf_pred = my_clf.predict(X_test)\n",
    "print('My own knn score = ', accuracy_score(y_test,my_clf_pred))\n",
    "print('Sklearn knn score = ', accuracy_score(y_test, sklearn_pred))\n",
    "assert abs( accuracy_score(y_test, my_clf_pred) -  accuracy_score(y_test, sklearn_pred ) )<0.005, \"Score must be simillar\""
   ]
  },
  {
   "cell_type": "code",
   "execution_count": 9,
   "metadata": {},
   "outputs": [
    {
     "name": "stdout",
     "output_type": "stream",
     "text": [
      "My own mean knn score =  0.9472733333333178\n",
      "Sklearn mean knn score =  0.9472733333333178\n"
     ]
    }
   ],
   "source": [
    "#counting mean score of my knn and sklearn knn\n",
    "my_score = 0\n",
    "sklearn_score = 0\n",
    "n = 10000\n",
    "for i in range(n):\n",
    "    X_train, X_test, y_train, y_test = train_test_split(iris.data, iris.target, test_size=0.1, stratify=iris.target)\n",
    "    clf = KNeighborsClassifier(n_neighbors=2, algorithm='brute')\n",
    "    my_clf = MyKNeighborsClassifier(n_neighbors=2, algorithm='brute')\n",
    "    clf.fit(X_train, y_train)\n",
    "    my_clf.fit(X_train, y_train)\n",
    "    sklearn_pred = clf.predict(X_test)\n",
    "    my_clf_pred = my_clf.predict(X_test)\n",
    "    my_score += accuracy_score(y_test, my_clf_pred)\n",
    "    sklearn_score += accuracy_score(y_test, sklearn_pred)\n",
    "print('My own mean knn score = ', my_score / n)\n",
    "print('Sklearn mean knn score = ', sklearn_score / n)\n",
    "assert abs((my_score - sklearn_score)/10000) <0.005, \"Score must be simillar\""
   ]
  },
  {
   "cell_type": "markdown",
   "metadata": {},
   "source": [
    "**Задание 2 (0.5 балла)**\n",
    "\n",
    "Давайте попробуем добиться скорости работы на fit, predict сравнимой со sklearn для iris. Допускается замедление не более чем в 2 раза. \n",
    "Для этого используем numpy. "
   ]
  },
  {
   "cell_type": "code",
   "execution_count": 18,
   "metadata": {},
   "outputs": [
    {
     "name": "stdout",
     "output_type": "stream",
     "text": [
      "Wall time: 1.04 ms\n"
     ]
    },
    {
     "data": {
      "text/plain": [
       "KNeighborsClassifier(algorithm='brute', n_neighbors=2)"
      ]
     },
     "execution_count": 18,
     "metadata": {},
     "output_type": "execute_result"
    }
   ],
   "source": [
    "%time clf.fit(X_train, y_train)"
   ]
  },
  {
   "cell_type": "code",
   "execution_count": 19,
   "metadata": {},
   "outputs": [
    {
     "name": "stdout",
     "output_type": "stream",
     "text": [
      "Wall time: 0 ns\n"
     ]
    }
   ],
   "source": [
    "%time my_clf.fit(X_train, y_train)"
   ]
  },
  {
   "cell_type": "code",
   "execution_count": 20,
   "metadata": {},
   "outputs": [
    {
     "name": "stdout",
     "output_type": "stream",
     "text": [
      "Wall time: 2 ms\n"
     ]
    },
    {
     "data": {
      "text/plain": [
       "array([0, 1, 1, 0, 0, 2, 1, 1, 2, 2, 1, 2, 0, 0, 1])"
      ]
     },
     "execution_count": 20,
     "metadata": {},
     "output_type": "execute_result"
    }
   ],
   "source": [
    "%time clf.predict(X_test)"
   ]
  },
  {
   "cell_type": "code",
   "execution_count": 21,
   "metadata": {},
   "outputs": [
    {
     "name": "stdout",
     "output_type": "stream",
     "text": [
      "Wall time: 998 µs\n"
     ]
    },
    {
     "data": {
      "text/plain": [
       "array([0, 1, 1, 0, 0, 2, 1, 1, 2, 2, 1, 2, 0, 0, 1], dtype=int64)"
      ]
     },
     "execution_count": 21,
     "metadata": {},
     "output_type": "execute_result"
    }
   ],
   "source": [
    "%time my_clf.predict(X_test)"
   ]
  },
  {
   "cell_type": "markdown",
   "metadata": {},
   "source": [
    "###### Задание 3 (1 балл)\n",
    "Добавьте algorithm='kd_tree' в реализацию KNN (использовать KDTree из sklearn.neighbors). Необходимо добиться скорости работы на fit,  predict сравнимой со sklearn для iris. Допускается замедление не более чем в 2 раза. \n",
    "Для этого используем numpy. Точность не должна уступать значению KNN из sklearn. "
   ]
  },
  {
   "cell_type": "code",
   "execution_count": 22,
   "metadata": {},
   "outputs": [],
   "source": [
    "clf = KNeighborsClassifier(n_neighbors=2, algorithm='kd_tree')\n",
    "my_clf = MyKNeighborsClassifier(n_neighbors=2, algorithm='kd_tree')"
   ]
  },
  {
   "cell_type": "code",
   "execution_count": 23,
   "metadata": {},
   "outputs": [],
   "source": [
    "X_train, X_test, y_train, y_test = train_test_split(iris.data, iris.target, test_size=0.1, stratify=iris.target)"
   ]
  },
  {
   "cell_type": "code",
   "execution_count": 24,
   "metadata": {},
   "outputs": [
    {
     "name": "stdout",
     "output_type": "stream",
     "text": [
      "Wall time: 1.94 ms\n"
     ]
    },
    {
     "data": {
      "text/plain": [
       "KNeighborsClassifier(algorithm='kd_tree', n_neighbors=2)"
      ]
     },
     "execution_count": 24,
     "metadata": {},
     "output_type": "execute_result"
    }
   ],
   "source": [
    "%time clf.fit(X_train, y_train)"
   ]
  },
  {
   "cell_type": "code",
   "execution_count": 25,
   "metadata": {},
   "outputs": [
    {
     "name": "stdout",
     "output_type": "stream",
     "text": [
      "Wall time: 0 ns\n"
     ]
    }
   ],
   "source": [
    "%time my_clf.fit(X_train, y_train)"
   ]
  },
  {
   "cell_type": "code",
   "execution_count": 26,
   "metadata": {},
   "outputs": [
    {
     "name": "stdout",
     "output_type": "stream",
     "text": [
      "Wall time: 4.99 ms\n"
     ]
    },
    {
     "data": {
      "text/plain": [
       "array([1, 2, 0, 0, 1, 0, 2, 2, 1, 1, 0, 1, 2, 0, 1])"
      ]
     },
     "execution_count": 26,
     "metadata": {},
     "output_type": "execute_result"
    }
   ],
   "source": [
    "%time clf.predict(X_test)"
   ]
  },
  {
   "cell_type": "code",
   "execution_count": 27,
   "metadata": {},
   "outputs": [
    {
     "name": "stdout",
     "output_type": "stream",
     "text": [
      "Wall time: 997 µs\n"
     ]
    },
    {
     "data": {
      "text/plain": [
       "array([1, 2, 0, 0, 1, 0, 2, 2, 1, 1, 0, 1, 2, 0, 1], dtype=int64)"
      ]
     },
     "execution_count": 27,
     "metadata": {},
     "output_type": "execute_result"
    }
   ],
   "source": [
    "%time my_clf.predict(X_test)"
   ]
  },
  {
   "cell_type": "code",
   "execution_count": 28,
   "metadata": {},
   "outputs": [
    {
     "name": "stdout",
     "output_type": "stream",
     "text": [
      "My own knn score =  0.9333333333333333\n",
      "Sklearn knn score =  0.9333333333333333\n"
     ]
    }
   ],
   "source": [
    "sklearn_pred = clf.predict(X_test)\n",
    "my_clf_pred = my_clf.predict(X_test)\n",
    "print('My own knn score = ', accuracy_score(y_test,my_clf_pred))\n",
    "print('Sklearn knn score = ', accuracy_score(y_test, sklearn_pred))\n",
    "assert abs( accuracy_score(y_test, my_clf_pred) -  accuracy_score(y_test, sklearn_pred ) )<0.005, \"Score must be simillar\""
   ]
  },
  {
   "cell_type": "code",
   "execution_count": 29,
   "metadata": {},
   "outputs": [
    {
     "name": "stdout",
     "output_type": "stream",
     "text": [
      "My own mean knn score =  0.9467466666666517\n",
      "Sklearn mean knn score =  0.9467466666666517\n"
     ]
    }
   ],
   "source": [
    "#counting mean score of my knn and sklearn knn\n",
    "my_score = 0\n",
    "sklearn_score = 0\n",
    "n = 10000\n",
    "for i in range(n):\n",
    "    X_train, X_test, y_train, y_test = train_test_split(iris.data, iris.target, test_size=0.1, stratify=iris.target)\n",
    "    clf.fit(X_train, y_train)\n",
    "    my_clf.fit(X_train, y_train)\n",
    "    clf.predict(X_test)\n",
    "    my_clf.predict(X_test)\n",
    "    sklearn_pred = clf.predict(X_test)\n",
    "    my_clf_pred = my_clf.predict(X_test)\n",
    "    my_score += accuracy_score(y_test, my_clf_pred)\n",
    "    sklearn_score += accuracy_score(y_test, sklearn_pred)\n",
    "print('My own mean knn score = ', my_score / n)\n",
    "print('Sklearn mean knn score = ', sklearn_score / n)\n",
    "assert abs((my_score - sklearn_score)/10000) <0.005, \"Score must be simillar\""
   ]
  },
  {
   "cell_type": "markdown",
   "metadata": {},
   "source": [
    "**Задание 4 (2.5 балла)**\n",
    "\n",
    "Рассмотрим новый датасет 20 newsgroups"
   ]
  },
  {
   "cell_type": "code",
   "execution_count": 3,
   "metadata": {},
   "outputs": [],
   "source": [
    "newsgroups = fetch_20newsgroups(subset='train',remove=['headers','footers', 'quotes'])"
   ]
  },
  {
   "cell_type": "code",
   "execution_count": 4,
   "metadata": {},
   "outputs": [],
   "source": [
    "data = newsgroups['data']\n",
    "target = newsgroups['target']"
   ]
  },
  {
   "cell_type": "markdown",
   "metadata": {},
   "source": [
    "Преобразуйте текстовые данные из data с помощью [CountVectorizer](https://scikit-learn.org/stable/modules/generated/sklearn.feature_extraction.text.CountVectorizer.html). Словарь можно ограничить по частотности."
   ]
  },
  {
   "cell_type": "code",
   "execution_count": 41,
   "metadata": {},
   "outputs": [],
   "source": [
    "vectorizer = CountVectorizer(min_df=0.01,max_df=0.8)"
   ]
  },
  {
   "cell_type": "code",
   "execution_count": 42,
   "metadata": {},
   "outputs": [],
   "source": [
    "text_matrix = vectorizer.fit_transform(data)\n",
    "text_matrix = text_matrix.toarray()"
   ]
  },
  {
   "cell_type": "code",
   "execution_count": 43,
   "metadata": {},
   "outputs": [
    {
     "data": {
      "text/plain": [
       "(11314, 1379)"
      ]
     },
     "execution_count": 43,
     "metadata": {},
     "output_type": "execute_result"
    }
   ],
   "source": [
    "text_matrix.shape"
   ]
  },
  {
   "cell_type": "markdown",
   "metadata": {},
   "source": [
    "*Так мы получили векторное представление наших текстов. Значит можно приступать к задаче обучения модели*"
   ]
  },
  {
   "cell_type": "markdown",
   "metadata": {},
   "source": [
    "Реализуйте разбиение выборки для кросс-валидации на 3 фолдах. Разрешено использовать sklearn.cross_validation"
   ]
  },
  {
   "cell_type": "code",
   "execution_count": null,
   "metadata": {},
   "outputs": [],
   "source": [
    "cv = KFold(n_splits=3)"
   ]
  },
  {
   "cell_type": "code",
   "execution_count": null,
   "metadata": {},
   "outputs": [],
   "source": [
    "part = cv.split(target)"
   ]
  },
  {
   "cell_type": "markdown",
   "metadata": {},
   "source": [
    "Напишите метод, позволяющий найти оптимальное количество ближайших соседей(дающее максимальную точность в среднем на валидации на 3 фолдах).\n",
    "Постройте график зависимости средней точности от количества соседей. Можно рассмотреть число соседей от 1 до 10."
   ]
  },
  {
   "cell_type": "code",
   "execution_count": 33,
   "metadata": {},
   "outputs": [],
   "source": [
    "def cv_score(data, target, clf_metric='minkowski', p=2, n=20):\n",
    "    cv = KFold(n_splits=3)\n",
    "    result = []\n",
    "    for n_neighb in range(n+1)[1:]:\n",
    "        score = []\n",
    "        for train_ind, test_ind in cv.split(target):\n",
    "            clf = MyKNeighborsClassifier(n_neighb, algorithm='brute')\n",
    "            X_train, X_test = data[train_ind], data[test_ind]\n",
    "            y_train, y_test = target[train_ind], target[test_ind]\n",
    "            clf.fit(X_train, y_train)\n",
    "            score.append(accuracy_score(clf.predict(X_test, metric=clf_metric, p=2), y_test))\n",
    "        result.append(np.asarray(score).mean())\n",
    "        print('Iteration :' , n_neighb)\n",
    "    return result"
   ]
  },
  {
   "cell_type": "code",
   "execution_count": 34,
   "metadata": {},
   "outputs": [
    {
     "name": "stdout",
     "output_type": "stream",
     "text": [
      "Iteration : 1\n",
      "Iteration : 2\n",
      "Iteration : 3\n",
      "Iteration : 4\n",
      "Iteration : 5\n",
      "Iteration : 6\n",
      "Iteration : 7\n",
      "Iteration : 8\n",
      "Iteration : 9\n",
      "Iteration : 10\n",
      "Iteration : 11\n",
      "Iteration : 12\n",
      "Iteration : 13\n",
      "Iteration : 14\n",
      "Iteration : 15\n",
      "Iteration : 16\n",
      "Iteration : 17\n",
      "Iteration : 18\n",
      "Iteration : 19\n",
      "Iteration : 20\n",
      "Wall time: 4h 33min 36s\n"
     ]
    }
   ],
   "source": [
    "%time mink_score = cv_score(text_matrix, target)"
   ]
  },
  {
   "cell_type": "code",
   "execution_count": 35,
   "metadata": {},
   "outputs": [
    {
     "data": {
      "text/plain": [
       "[0.18923539197344172,\n",
       " 0.17438660222443256,\n",
       " 0.17235356634635834,\n",
       " 0.1739438594794097,\n",
       " 0.17712566432502552,\n",
       " 0.17491612189132164,\n",
       " 0.17721426911616148,\n",
       " 0.18154566312706813,\n",
       " 0.1840202466048734,\n",
       " 0.18437382213744657,\n",
       " 0.1840205043813089,\n",
       " 0.18693712757749484,\n",
       " 0.18516934365151475,\n",
       " 0.18720254356913876,\n",
       " 0.18552284888142367,\n",
       " 0.1865834583080361,\n",
       " 0.18684866339168735,\n",
       " 0.18737886265099724,\n",
       " 0.1863184641323775,\n",
       " 0.18260664750122305]"
      ]
     },
     "execution_count": 35,
     "metadata": {},
     "output_type": "execute_result"
    }
   ],
   "source": [
    "mink_score"
   ]
  },
  {
   "cell_type": "markdown",
   "metadata": {},
   "source": [
    "*Оптимальное число соседей:*"
   ]
  },
  {
   "cell_type": "code",
   "execution_count": 36,
   "metadata": {},
   "outputs": [
    {
     "data": {
      "text/plain": [
       "18"
      ]
     },
     "execution_count": 36,
     "metadata": {},
     "output_type": "execute_result"
    }
   ],
   "source": [
    "np.asarray(mink_score[1:]).argmax() + 2"
   ]
  },
  {
   "cell_type": "code",
   "execution_count": 37,
   "metadata": {},
   "outputs": [
    {
     "data": {
      "text/plain": [
       "[<matplotlib.lines.Line2D at 0x143aade8340>]"
      ]
     },
     "execution_count": 37,
     "metadata": {},
     "output_type": "execute_result"
    },
    {
     "data": {
      "image/png": "[encoded data removed]",
      "text/plain": [
       "<Figure size 432x288 with 1 Axes>"
      ]
     },
     "metadata": {
      "needs_background": "light"
     },
     "output_type": "display_data"
    }
   ],
   "source": [
    "plt.plot(mink_score)"
   ]
  },
  {
   "cell_type": "markdown",
   "metadata": {},
   "source": [
    "Как изменится качество на валидации, если:\n",
    "\n",
    "1. Используется косинусная метрика вместо евклидовой.\n",
    "2. К текстам применяется TfIdf векторизацию( sklearn.feature_extraction.text.TfidfVectorizer)\n",
    "\n",
    "Сравните модели, выберите лучшую."
   ]
  },
  {
   "cell_type": "markdown",
   "metadata": {},
   "source": [
    "*1. Косинусная метрика*"
   ]
  },
  {
   "cell_type": "code",
   "execution_count": 38,
   "metadata": {},
   "outputs": [
    {
     "name": "stdout",
     "output_type": "stream",
     "text": [
      "Iteration : 1\n",
      "Iteration : 2\n",
      "Iteration : 3\n",
      "Iteration : 4\n",
      "Iteration : 5\n",
      "Iteration : 6\n",
      "Iteration : 7\n",
      "Iteration : 8\n",
      "Iteration : 9\n",
      "Iteration : 10\n",
      "Iteration : 11\n",
      "Iteration : 12\n",
      "Iteration : 13\n",
      "Iteration : 14\n",
      "Iteration : 15\n",
      "Iteration : 16\n",
      "Iteration : 17\n",
      "Iteration : 18\n",
      "Iteration : 19\n",
      "Iteration : 20\n",
      "Wall time: 40min 24s\n"
     ]
    }
   ],
   "source": [
    "%time cosine_score = cv_score(text_matrix, target, clf_metric='cosine', n=20)"
   ]
  },
  {
   "cell_type": "code",
   "execution_count": 39,
   "metadata": {},
   "outputs": [
    {
     "data": {
      "text/plain": [
       "[0.2557886042005935,\n",
       " 0.24261932166552824,\n",
       " 0.2404091933762892,\n",
       " 0.24270766868022872,\n",
       " 0.24182316742748208,\n",
       " 0.24164691864828783,\n",
       " 0.23855343738315113,\n",
       " 0.23740452781028107,\n",
       " 0.2384656996582072,\n",
       " 0.238907575337038,\n",
       " 0.24058630922167545,\n",
       " 0.24217751628936166,\n",
       " 0.23987965027517869,\n",
       " 0.23881897054590207,\n",
       " 0.2380234490318339,\n",
       " 0.23749324977252403,\n",
       " 0.23581376599280154,\n",
       " 0.23607899451067424,\n",
       " 0.23466492672259573,\n",
       " 0.23466462207771746]"
      ]
     },
     "execution_count": 39,
     "metadata": {},
     "output_type": "execute_result"
    }
   ],
   "source": [
    "cosine_score"
   ]
  },
  {
   "cell_type": "markdown",
   "metadata": {},
   "source": [
    "*Оптимальное число соседей:*"
   ]
  },
  {
   "cell_type": "code",
   "execution_count": 44,
   "metadata": {},
   "outputs": [
    {
     "data": {
      "text/plain": [
       "4"
      ]
     },
     "execution_count": 44,
     "metadata": {},
     "output_type": "execute_result"
    }
   ],
   "source": [
    "np.asarray(cosine_score[1:]).argmax() + 2"
   ]
  },
  {
   "cell_type": "code",
   "execution_count": 45,
   "metadata": {},
   "outputs": [
    {
     "data": {
      "text/plain": [
       "[<matplotlib.lines.Line2D at 0x143aaf1ebb0>]"
      ]
     },
     "execution_count": 45,
     "metadata": {},
     "output_type": "execute_result"
    },
    {
     "data": {
      "image/png": "[encoded data removed]",
      "text/plain": [
       "<Figure size 432x288 with 1 Axes>"
      ]
     },
     "metadata": {
      "needs_background": "light"
     },
     "output_type": "display_data"
    }
   ],
   "source": [
    "plt.plot(cosine_score)"
   ]
  },
  {
   "cell_type": "markdown",
   "metadata": {},
   "source": [
    "*2. Tfidf векторизация*"
   ]
  },
  {
   "cell_type": "code",
   "execution_count": 74,
   "metadata": {},
   "outputs": [],
   "source": [
    "tfidf_vectorizer = TfidfVectorizer(max_df=0.8, min_df=0.01)"
   ]
  },
  {
   "cell_type": "code",
   "execution_count": 75,
   "metadata": {},
   "outputs": [],
   "source": [
    "tfidf_matrix = tfidf_vectorizer.fit_transform(data).toarray()"
   ]
  },
  {
   "cell_type": "markdown",
   "metadata": {},
   "source": [
    "*2.1 Tfidf векторизация и евклидова метрика*"
   ]
  },
  {
   "cell_type": "code",
   "execution_count": 85,
   "metadata": {},
   "outputs": [
    {
     "name": "stdout",
     "output_type": "stream",
     "text": [
      "Iteration : 1\n",
      "Iteration : 2\n",
      "Iteration : 3\n",
      "Iteration : 4\n",
      "Iteration : 5\n",
      "Iteration : 6\n",
      "Iteration : 7\n",
      "Iteration : 8\n",
      "Iteration : 9\n",
      "Iteration : 10\n",
      "Iteration : 11\n",
      "Iteration : 12\n",
      "Iteration : 13\n",
      "Iteration : 14\n",
      "Iteration : 15\n",
      "Iteration : 16\n",
      "Iteration : 17\n",
      "Iteration : 18\n",
      "Iteration : 19\n",
      "Iteration : 20\n",
      "Wall time: 5h 20min 30s\n"
     ]
    }
   ],
   "source": [
    "%time tfidf_mink_score = cv_score(tfidf_matrix, target, n=20)"
   ]
  },
  {
   "cell_type": "code",
   "execution_count": 86,
   "metadata": {},
   "outputs": [
    {
     "data": {
      "text/plain": [
       "[0.20832544771783024,\n",
       " 0.14901882321026524,\n",
       " 0.1578570866819664,\n",
       " 0.15388027587515332,\n",
       " 0.15273099135474077,\n",
       " 0.150432961301008,\n",
       " 0.14716262196692043,\n",
       " 0.1430081797618502,\n",
       " 0.14044508522979457,\n",
       " 0.13726313977885032,\n",
       " 0.13620274126023055,\n",
       " 0.13496529719888875,\n",
       " 0.1310766693672263,\n",
       " 0.13054623576570243,\n",
       " 0.12904368035759495,\n",
       " 0.12895528647445167,\n",
       " 0.1279831881020896,\n",
       " 0.12603856954138012,\n",
       " 0.12497772577255363,\n",
       " 0.12391699917483419]"
      ]
     },
     "execution_count": 86,
     "metadata": {},
     "output_type": "execute_result"
    }
   ],
   "source": [
    "\n",
    "tfidf_mink_score"
   ]
  },
  {
   "cell_type": "markdown",
   "metadata": {},
   "source": [
    "*Оптимальное число соседей:*"
   ]
  },
  {
   "cell_type": "code",
   "execution_count": 87,
   "metadata": {},
   "outputs": [
    {
     "data": {
      "text/plain": [
       "3"
      ]
     },
     "execution_count": 87,
     "metadata": {},
     "output_type": "execute_result"
    }
   ],
   "source": [
    "np.asarray(tfidf_mink_score)[1:].argmax() + 2"
   ]
  },
  {
   "cell_type": "code",
   "execution_count": 88,
   "metadata": {},
   "outputs": [
    {
     "data": {
      "text/plain": [
       "[<matplotlib.lines.Line2D at 0x143b0146a00>]"
      ]
     },
     "execution_count": 88,
     "metadata": {},
     "output_type": "execute_result"
    },
    {
     "data": {
      "image/png": "[encoded data removed]",
      "text/plain": [
       "<Figure size 432x288 with 1 Axes>"
      ]
     },
     "metadata": {
      "needs_background": "light"
     },
     "output_type": "display_data"
    }
   ],
   "source": [
    "plt.plot(tfidf_mink_score)"
   ]
  },
  {
   "cell_type": "markdown",
   "metadata": {},
   "source": [
    "*2.2 Tfidf векторизация и косинусная метрика*"
   ]
  },
  {
   "cell_type": "code",
   "execution_count": 48,
   "metadata": {},
   "outputs": [
    {
     "name": "stdout",
     "output_type": "stream",
     "text": [
      "Iteration : 1\n",
      "Iteration : 2\n",
      "Iteration : 3\n",
      "Iteration : 4\n",
      "Iteration : 5\n",
      "Iteration : 6\n",
      "Iteration : 7\n",
      "Iteration : 8\n",
      "Iteration : 9\n",
      "Iteration : 10\n",
      "Iteration : 11\n",
      "Iteration : 12\n",
      "Iteration : 13\n",
      "Iteration : 14\n",
      "Iteration : 15\n",
      "Iteration : 16\n",
      "Iteration : 17\n",
      "Iteration : 18\n",
      "Iteration : 19\n",
      "Iteration : 20\n",
      "Wall time: 39min 52s\n"
     ]
    }
   ],
   "source": [
    "%time tfidf_cosine_score = cv_score(tfidf_matrix, target, clf_metric='cosine', n=20)"
   ]
  },
  {
   "cell_type": "code",
   "execution_count": 49,
   "metadata": {},
   "outputs": [
    {
     "data": {
      "text/plain": [
       "[0.4113485513292406,\n",
       " 0.39269945732904804,\n",
       " 0.40312890443421406,\n",
       " 0.4129402270813549,\n",
       " 0.4192149507707937,\n",
       " 0.4205408824521644,\n",
       " 0.4250488298871436,\n",
       " 0.4265510337819299,\n",
       " 0.4294677975834444,\n",
       " 0.42858385875201144,\n",
       " 0.4289376920610201,\n",
       " 0.43203084524705715,\n",
       " 0.4361850296756919,\n",
       " 0.4348589573889928,\n",
       " 0.4348591917312068,\n",
       " 0.4369805277555387,\n",
       " 0.4343288518665685,\n",
       " 0.4341521578371676,\n",
       " 0.43459424442399114,\n",
       " 0.435478183255424]"
      ]
     },
     "execution_count": 49,
     "metadata": {},
     "output_type": "execute_result"
    }
   ],
   "source": [
    "tfidf_cosine_score"
   ]
  },
  {
   "cell_type": "markdown",
   "metadata": {},
   "source": [
    "*Оптимальное число соседей :*"
   ]
  },
  {
   "cell_type": "code",
   "execution_count": 50,
   "metadata": {},
   "outputs": [
    {
     "data": {
      "text/plain": [
       "16"
      ]
     },
     "execution_count": 50,
     "metadata": {},
     "output_type": "execute_result"
    }
   ],
   "source": [
    "np.asarray(tfidf_cosine_score)[1:].argmax() + 2"
   ]
  },
  {
   "cell_type": "code",
   "execution_count": 51,
   "metadata": {},
   "outputs": [
    {
     "data": {
      "text/plain": [
       "[<matplotlib.lines.Line2D at 0x143ab401f70>]"
      ]
     },
     "execution_count": 51,
     "metadata": {},
     "output_type": "execute_result"
    },
    {
     "data": {
      "image/png": "[encoded data removed]",
      "text/plain": [
       "<Figure size 432x288 with 1 Axes>"
      ]
     },
     "metadata": {
      "needs_background": "light"
     },
     "output_type": "display_data"
    }
   ],
   "source": [
    "plt.plot(tfidf_cosine_score)"
   ]
  },
  {
   "cell_type": "markdown",
   "metadata": {},
   "source": [
    "*Лучшая модель с использованием косинусной метрики и Tfidf векторизации!*"
   ]
  },
  {
   "cell_type": "markdown",
   "metadata": {},
   "source": [
    "*Качество с использованием косинусной метрики слегка улучшается, а с использованием Tfidf векторизации улучшается значительно*"
   ]
  },
  {
   "cell_type": "markdown",
   "metadata": {},
   "source": [
    "Загрузим  теперь test  часть нашей выборки и преобразуем её аналогично с train частью. Не забудьте, что наборы слов в train и test части могут отличаться."
   ]
  },
  {
   "cell_type": "code",
   "execution_count": 76,
   "metadata": {},
   "outputs": [],
   "source": [
    "newsgroups = fetch_20newsgroups(subset='test',remove=['headers','footers', 'quotes'])"
   ]
  },
  {
   "cell_type": "markdown",
   "metadata": {},
   "source": [
    "Оценим точность вашей лучшей модели на test части датасета. Отличается ли оно от кросс-валидации? Попробуйте сделать выводы, почему отличается качество."
   ]
  },
  {
   "cell_type": "code",
   "execution_count": 77,
   "metadata": {},
   "outputs": [],
   "source": [
    "test_data, test_target = newsgroups['data'], newsgroups['target']"
   ]
  },
  {
   "cell_type": "code",
   "execution_count": 78,
   "metadata": {},
   "outputs": [],
   "source": [
    "test_matrix = tfidf_vectorizer.transform(test_data).toarray()"
   ]
  },
  {
   "cell_type": "code",
   "execution_count": 81,
   "metadata": {},
   "outputs": [],
   "source": [
    "final_clf = MyKNeighborsClassifier(n_neighbors=16,algorithm='brute')"
   ]
  },
  {
   "cell_type": "code",
   "execution_count": 82,
   "metadata": {},
   "outputs": [],
   "source": [
    "final_clf.fit(tfidf_matrix, target)"
   ]
  },
  {
   "cell_type": "code",
   "execution_count": 83,
   "metadata": {},
   "outputs": [],
   "source": [
    "prediction = final_clf.predict(test_matrix, metric='cosine')"
   ]
  },
  {
   "cell_type": "code",
   "execution_count": 84,
   "metadata": {},
   "outputs": [
    {
     "data": {
      "text/plain": [
       "0.3947158789166224"
      ]
     },
     "execution_count": 84,
     "metadata": {},
     "output_type": "execute_result"
    }
   ],
   "source": [
    "accuracy_score(prediction, test_target)"
   ]
  },
  {
   "cell_type": "markdown",
   "metadata": {},
   "source": [
    "Да, качество хуже, чем на кросс-валидации.\n",
    "Вывод : тестовая выборка может быть не репрезентативной."
   ]
  }
 ],
 "metadata": {
  "kernelspec": {
   "display_name": "Python 3",
   "language": "python",
   "name": "python3"
  },
  "language_info": {
   "codemirror_mode": {
    "name": "ipython",
    "version": 3
   },
   "file_extension": ".py",
   "mimetype": "text/x-python",
   "name": "python",
   "nbconvert_exporter": "python",
   "pygments_lexer": "ipython3",
   "version": "3.8.3"
  }
 },
 "nbformat": 4,
 "nbformat_minor": 2
}
