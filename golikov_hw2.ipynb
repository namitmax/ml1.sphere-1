{
 "cells": [
  {
   "cell_type": "markdown",
   "metadata": {},
   "source": [
    "# Алгоритмы интеллектуальной обработки больших объемов данных\n",
    "## Домашнее задание №2: Линейные модели\n"
   ]
  },
  {
   "cell_type": "markdown",
   "metadata": {},
   "source": [
    "###### <hr\\>\n",
    "**Общая информация**\n",
    "\n",
    "**Срок сдачи:** 09 ноября 18:00 Сдача **очная** на онлайн занятии. <br\\>\n",
    "\n",
    "\n",
    "Используйте данный Ipython Notebook при оформлении домашнего задания.\n",
    "\n",
    "Присылать ДЗ необходимо в виде ссылки на свой github репозиторий на почту ml1.sphere@mail.ru с указанием темы в следующем формате:\n",
    "\n",
    "[ML0920, Задание 2] Фамилия Имя.\n",
    "\n",
    "\n",
    "\n",
    "**Штрафные баллы:**\n",
    "\n",
    "1. Невыполнение PEP8 -1 балл\n",
    "2. Отсутствие фамилии в имени скрипта (скрипт должен называться по аналогии со stroykova_hw2.ipynb) -1 балл\n",
    "3. Все строчки должны быть выполнены. Нужно, чтобы output команды можно было увидеть уже в git'е. В противном случае -1 балл\n",
    "4. При оформлении ДЗ нужно пользоваться данным файлом в качестве шаблона. Не нужно удалять и видоизменять написанный код и текст, если явно не указана такая возможность. В противном случае -1 балл\n",
    "<hr\\>"
   ]
  },
  {
   "cell_type": "code",
   "execution_count": 40,
   "metadata": {},
   "outputs": [],
   "source": [
    "import pandas as pd\n",
    "import numpy as np\n",
    "import matplotlib.pyplot as plt\n",
    "\n",
    "%matplotlib inline\n",
    "\n",
    "plt.style.use('ggplot')\n",
    "plt.rcParams['figure.figsize'] = (12,5)"
   ]
  },
  {
   "cell_type": "markdown",
   "metadata": {},
   "source": [
    "Здравствуйте, уважаемые студенты! \n",
    "\n",
    "В этом задании мы будем реализовать линейные модели. Необходимо реализовать линейную и логистическую регрессии с L2 регуляризацией"
   ]
  },
  {
   "cell_type": "markdown",
   "metadata": {},
   "source": [
    "# Теоретическое введение\n",
    "\n"
   ]
  },
  {
   "cell_type": "markdown",
   "metadata": {},
   "source": [
    "Линейная регрессия решает задачу регрессии и оптимизирует функцию потерь MSE \n",
    "\n",
    "$$L(w) =  \\frac{1}{N}\\left[\\sum_i (y_i - a_i) ^ 2 \\right], $$ где $y_i$ $-$ целевая функция,  $a_i = a(x_i) =  \\langle\\,x_i,w\\rangle ,$ $-$ предсказание алгоритма на объекте $x_i$, $w$ $-$ вектор весов (размерности $D$), $x_i$ $-$ вектор признаков (такой же размерности $D$).\n",
    "\n",
    "Не забываем, что здесь и далее  мы считаем, что в $x_i$ есть тождественный вектор единиц, ему соответствует вес $w_0$.\n"
   ]
  },
  {
   "cell_type": "markdown",
   "metadata": {},
   "source": [
    "Логистическая регрессия является линейным классификатором, который оптимизирует так называемый функционал log loss:"
   ]
  },
  {
   "cell_type": "markdown",
   "metadata": {},
   "source": [
    "$$L(w) = - \\frac{1}{N}\\left[\\sum_i y_i \\log a_i + ( 1 - y_i) \\log (1 - a_i) \\right],$$\n",
    "где  $y_i  \\in \\{0,1\\}$ $-$ метка класса, $a_i$ $-$ предсказание алгоритма на объекте $x_i$. Модель пытается предсказать апостериорую вероятность объекта принадлежать к классу \"1\":\n",
    "$$ p(y_i = 1 | x_i) = a(x_i) =  \\sigma( \\langle\\,x_i,w\\rangle ),$$\n",
    "$w$ $-$ вектор весов (размерности $D$), $x_i$ $-$ вектор признаков (такой же размерности $D$).\n",
    "\n",
    "Функция $\\sigma(x)$ $-$ нелинейная функция, пероводящее скалярное произведение объекта на веса в число $\\in (0,1)$ (мы же моделируем вероятность все-таки!)\n",
    "\n",
    "$$\\sigma(x) = \\frac{1}{1 + \\exp(-x)}$$\n",
    "\n",
    "Если внимательно посмотреть на функцию потерь, то можно заметить, что в зависимости от правильного ответа алгоритм штрафуется или функцией $-\\log a_i$, или функцией $-\\log (1 - a_i)$.\n",
    "\n"
   ]
  },
  {
   "cell_type": "markdown",
   "metadata": {},
   "source": [
    "Часто для решения проблем, которые так или иначе связаны с проблемой переобучения, в функционал качества добавляют слагаемое, которое называют ***регуляризацией***. Итоговый функционал для линейной регрессии тогда принимает вид:\n",
    "\n",
    "$$L(w) =  \\frac{1}{N}\\left[\\sum_i (y_i - a_i) ^ 2 \\right] + \\frac{1}{C}R(w) $$\n",
    "\n",
    "Для логистической: \n",
    "$$L(w) = - \\frac{1}{N}\\left[\\sum_i y_i \\log a_i + ( 1 - y_i) \\log (1 - a_i) \\right] +  \\frac{1}{C}R(w)$$\n",
    "\n",
    "Самое понятие регуляризации введено основателем ВМК академиком Тихоновым https://ru.wikipedia.org/wiki/Метод_регуляризации_Тихонова\n",
    "\n",
    "Идейно методика регуляризации заключается в следующем $-$ мы рассматриваем некорректно поставленную задачу (что это такое можно найти в интернете), для того чтобы сузить набор различных вариантов (лучшие из которых будут являться переобучением ) мы вводим дополнительные ограничения на множество искомых решений. На лекции Вы уже рассмотрели два варианта регуляризации.\n",
    "\n",
    "$L1$ регуляризация:\n",
    "$$R(w) = \\sum_{j=1}^{D}|w_j|$$\n",
    "$L2$ регуляризация:\n",
    "$$R(w) =  \\sum_{j=1}^{D}w_j^2$$\n",
    "\n",
    "С их помощью мы ограничиваем модель в  возможности выбора каких угодно весов минимизирующих наш лосс, модель уже не сможет подстроиться под данные как ей угодно. \n",
    "\n",
    "Вам нужно добавить соотвествущую Вашему варианту $L2$ регуляризацию.\n",
    "\n",
    "И так, мы поняли, какую функцию ошибки будем минимизировать, разобрались, как получить предсказания по объекту и обученным весам. Осталось разобраться, как получить оптимальные веса. Для этого нужно выбрать какой-то метод оптимизации.\n",
    "\n"
   ]
  },
  {
   "cell_type": "markdown",
   "metadata": {},
   "source": [
    "Градиентный спуск является самым популярным алгоритмом обучения линейных моделей. В этом задании Вам предложат реализовать стохастический градиентный спуск или  мини-батч градиентный спуск (мини-батч на русский язык довольно сложно перевести, многие переводят это как \"пакетный\", но мне не кажется этот перевод удачным). Далее нам потребуется определение **эпохи**.\n",
    "Эпохой в SGD и MB-GD называется один проход по **всем** объектам в обучающей выборки.\n",
    "* В SGD градиент расчитывается по одному случайному объекту. Сам алгоритм выглядит примерно так:\n",
    "        1) Перемешать выборку\n",
    "        2) Посчитать градиент функции потерь на одном объекте (далее один объект тоже будем называть батчем)\n",
    "        3) Сделать шаг спуска\n",
    "        4) Повторять 2) и 3) пока не пройдет максимальное число эпох.\n",
    "* В Mini Batch SGD - по подвыборке объектов. Сам алгоритм выглядит примерно так::\n",
    "        1) Перемешать выборку, выбрать размер мини-батча (от 1 до размера выборки)\n",
    "        2) Почитать градиент функции потерь по мини-батчу (не забыть поделить на  число объектов в мини-батче)\n",
    "        3) Сделать шаг спуска\n",
    "        4) Повторять 2) и 3) пока не пройдет максимальное число эпох.\n",
    "* Для отладки алгоритма реализуйте возможность  вывода средней ошибки на обучении модели по объектам (мини-батчам). После шага градиентного спуска посчитайте значение ошибки на объекте (или мини-батче), а затем усредните, например, по ста шагам. Если обучение проходит корректно, то мы должны увидеть, что каждые 100 шагов функция потерь уменьшается. \n",
    "* Правило останова - максимальное количество эпох\n",
    "    \n"
   ]
  },
  {
   "cell_type": "markdown",
   "metadata": {},
   "source": [
    "# Теоретические вопросы (2 балла)\n",
    "В этой части Вам будут предложены теоретичские вопросы и задачи по теме. Вы, конечно, можете списать их у своего товарища или найти решение в интернете, но учтите, что они обязательно войдут в теоретический коллоквиум. Лучше разобраться в теме сейчас и успешно ответить на коллоквиуме, чем списать, не разобравшись в материале, и быть терзаемым совестью. \n",
    "\n",
    "\n",
    "Формулы надо оформлять в формате **LaTeX**."
   ]
  },
  {
   "cell_type": "markdown",
   "metadata": {},
   "source": [
    "Задача 1. Градиент для линейной регрессии.\n",
    "* Выпишите формулу обновления весов для линейной регрессии с L2 регуляризацией для мини-батч градиентого спуска размера $n$:\n",
    "\n",
    "$$ w_{new} = w_{old} - ... $$\n",
    "\n",
    " Отнеситесь к этому пункту максимально серьезно, это Вам нужно будет реализовать в задании.\n",
    " \n",
    "Проанализруйте итоговую формулу градиента - как  интуитивно можно  описать, чему равен градиент?"
   ]
  },
  {
   "cell_type": "markdown",
   "metadata": {},
   "source": [
    "***Ваше решение здесь***"
   ]
  },
  {
   "cell_type": "markdown",
   "metadata": {},
   "source": [
    "Выберем случайно $ \\{j_{1},\\, j_{2},\\, ...,\\, j_{n}\\} $, начальный шаг $ \\alpha_{0} $, начальное приближение $ w_{0} $, размер батча *n*\n",
    "$$ Q_{r}(w) = Q(w) + \\frac{1}{C} R(w) $$\n",
    "$$ Q(w) = \\frac{1}{n}\\sum_{i=1}^{n}L(w, x_{j_{i}}, y_{j_{i}}) $$\n",
    "$$ Q^*(w_{old}) = \\frac{1}{n}\\sum_{i=1}^{n}L(w_{old}, x_{j_{i}}, y_{j_{i}}) $$\n",
    "$$ L(w, x_{j}, y_{j}) = (\\langle x_j,w\\rangle - y_j)^2 $$\n",
    "$$ Q_{r}(w) = \\frac{1}{n}\\sum_{i=1}^{n}(\\langle\\,x_{j_{i}},w\\rangle - y_{j_{i}})^2 + \\frac{1}{C}R(w) $$\n",
    "$$R(w) =  \\sum_{i=1}^{D}w_i^2$$\n",
    "$$ \\alpha = f(k),\\;\\; k = k+1 $$\n",
    "\n",
    "$$ w_{new} = w_{old} - \\alpha\\nabla_{w}Q^*(w_{old}) - \\alpha\\nabla_{w}R(w_{old}) $$\n",
    "$$ w_{new} = (1 - \\frac{2\\alpha}{C})w_{old} - \\frac{2\\alpha}{n}\\sum_{i=1}^{n}(\\langle x_{j_{i}},w_{old}\\rangle - y_{j_{i}})x_{j_{i}} $$\n",
    "\n",
    "Интуитивно градиент равен сумме неправильно классифицированных объектов."
   ]
  },
  {
   "cell_type": "markdown",
   "metadata": {},
   "source": [
    "Задача 2. Градиент для логистической регрессии.\n",
    "* Выпишите формулу обновления весов для логистической регрессии с L2 регуляризацией  для мини-батч градиентого спуска размера $n$:\n",
    "\n",
    "$$ w_{new} = w_{old} - ... $$\n",
    "\n",
    " Отнеситесь к этому пункту максимально серьезно, это Вам нужно будет реализовать в задании.\n",
    " \n",
    "Проанализруйте итоговую формулу градиента - как  интуитивно можно  описать, чему равен градиент? Как соотносится этот градиент с градиентом, возникающий в задаче линейной регрессии?\n",
    "\n",
    "Подсказка: Вам градиент, которой получается если “в лоб” продифференцировать,  надо немного преобразовать.\n",
    "Надо подставить, что $1 - \\sigma(w,x) $ это  $1 - a(x_i)$, а  $-\\sigma(w,x)$ это $0 - a(x_i)$.  Тогда получится свести к одной красивой формуле с линейной регрессией, которую программировать будет намного проще."
   ]
  },
  {
   "cell_type": "markdown",
   "metadata": {},
   "source": [
    "***Ваше решение здесь***"
   ]
  },
  {
   "cell_type": "markdown",
   "metadata": {},
   "source": [
    "Выберем случайно $ \\{j_{1},\\, j_{2},\\, ...,\\, j_{n}\\} $, начальный шаг $ \\alpha_{0} $, начальное приближение $ w_{0} $, размер батча *n*\n",
    "$$ Q_{r}(w) = Q(w) + \\frac{1}{C} R(w) $$\n",
    "$$ Q(w) = -\\frac{1}{n}\\sum_{i=1}^{n}L(w, x_{j_{i}}, y_{j_{i}}) $$\n",
    "$$ L(w, x_{j}, y_{j}) = y_j \\log a_j + ( 1 - y_j) \\log (1 - a_j) $$\n",
    "$$ Q^`(w) = -\\frac{1}{n}\\sum_{i=1}^{n}(y_{j_{i}}log(a_{j_{i}}) + (1 - y_{j_{i}})log(1 - a_{j_{i}})) + \\frac{1}{C} R(w) $$\n",
    "$$R(w) =  \\sum_{i=1}^{D}w_i^2$$\n",
    "$$ a_{j_{i}} = \\sigma( \\langle\\,x_{j_{i}},w\\rangle ) $$\n",
    "$$\\sigma(x) = \\frac{1}{1 + \\exp(-x)}$$\n",
    "$$ \\nabla_{w}Q^`(w) = -\\frac{1}{n}\\sum_{i=1}^{n}(y_{j_{i}} - a_{j_{i}})x_{j_{i}} + \\frac{2}{C}w $$\n",
    "$$ \\alpha = f(k),\\;\\; k = k+1 $$\n",
    "\n",
    "$$ w_{new} = w_{old} +\\frac{1}{n}\\alpha\\sum_{i=1}^{n}x_{j_{i}}(y_{j_{i}} - a_{j_{i}}) - \\alpha \\frac{2}{C}w_{old} $$\n",
    "$$ w_{new} = (1 - \\frac{2\\alpha}{C})w_{old} + \\frac{1}{n}\\alpha\\sum_{i=1}^{n}(y_{j_{i}} - a_{j_{i}})x_{j_{i}} $$\n",
    "\n",
    "Интуитивно градиент равен количеству неправильно классифицированных объектов. От градиента в линейной регрессии отличается использованием сигмоиды, что переводит понятие правильной классификации в термины вероятностей."
   ]
  },
  {
   "cell_type": "markdown",
   "metadata": {},
   "source": [
    "Задача 3. Точное решение линейной регрессии\n",
    "\n",
    "На лекции было показано, что точное решение линейной регрессии имеет вид $w = (X^TX)^{-1}X^TY $. \n",
    "* Покажите, что это действительно является точкой минимума в случае, если матрица X имеет строк не меньше, чем столбцов и имеет полный ранг. Подсказка: посчитайте Гессиан и покажите, что в этом случае он положительно определен. \n",
    "* Выпишите точное решение для модели с $L2$ регуляризацией. Как L2 регуляризация помогает с точным решением где матрица X имеет линейно зависимые признаки?"
   ]
  },
  {
   "cell_type": "markdown",
   "metadata": {},
   "source": [
    "***Ваше решение здесь***"
   ]
  },
  {
   "cell_type": "markdown",
   "metadata": {},
   "source": [
    "1)\n",
    "\n",
    "$$\\nabla_{w} Q(w) = \\frac{1}{N}(2X^TXw - 2X^TY) $$\n",
    "$$\\nabla_{w}^2Q(w) = \\frac{2}{N}X^TX $$\n",
    "\n",
    "Так как матрица X имеет строк не меньше, чем столбцов, и имеет полный ранг, то \n",
    "$ Xv \\neq 0 \\;, \\;$ если$\\;\\; v \\neq 0$\n",
    "$$ Xv = u $$\n",
    "$$(X^TXv, v) = v^TX^TXv = (Xv)^TXv = u^Tu = \\sum_{j}u_{j}^2 \\; > 0 $$\n",
    "Таким образом, гессиан положительно определен, а $w$ - точка минимума.\n",
    "\n",
    "2)\n",
    "\n",
    "$$ Q_{r}(w) = Q(w) + \\alpha R(w) $$\n",
    "$$\\nabla_{w} Q_{r}(w) = \\nabla_{w} Q(w) + \\nabla_{w} (\\alpha R(w)) $$\n",
    "$$\\nabla_{w} Q_{r}(w) = (2X^TXw - 2X^TY) + 2\\alpha w = 0 $$\n",
    "$$ (X^TX + \\alpha E)w = X^TY $$\n",
    "$$ w = (X^TX + \\alpha E)^{-1} X^TY $$\n",
    "\n",
    "Если матрица Х имеет линейно зависимые признаки, то матрица $XX^T$ может быть необратимой. В таком случае регуляризация помогает сделать эту матрицу обратимой."
   ]
  },
  {
   "cell_type": "markdown",
   "metadata": {},
   "source": [
    "Задача 4.  Предсказываем вероятности.\n",
    "\n",
    "Когда говорят о логистической регрессии, произносят фразу, что она \"предсказывает вероятности положительного класса\". Давайте разберемся, что же за этим стоит. Посчитаем математическое ожидание функции потерь и проверим, что предсказание алгоритма, оптимизирующее это мат. ожидание, будет являться вероятностью положительного класса. \n",
    "\n",
    "И так, функция потерь на объекте $x_i$, который имеет метку $y_i \\in \\{0,1\\}$  для предсказания $a(x_i)$ равна:\n",
    "$$L(y_i, b) =-[y_i == 1] \\log a(x_i)  - [y_i == 0] \\log(1 - a(x_i)) $$\n",
    "\n",
    "Где $[]$ означает индикатор $-$ он равен единице, если значение внутри него истинно, иначе он равен нулю. Тогда мат. ожидание при условии конкретного $x_i$  по определение мат. ожидания дискретной случайной величины:\n",
    "$$E(L | x_i) = -p(y_i = 1 |x_i ) \\log a(x_i)  - p(y_i = 0 | x_i) \\log( 1 - a(x_i))$$\n",
    "* Докажите, что значение $a(x_i)$, минимизирующее данное мат. ожидание, в точности равно $p(y_i = 1 |x_i)$, то есть равно вероятности положительного класса.\n",
    "\n",
    "Подсказка: возможно, придется воспользоваться, что  $p(y_i = 1 | x_i) + p(y_i = 0 | x_i) = 1$"
   ]
  },
  {
   "cell_type": "markdown",
   "metadata": {},
   "source": [
    "***Ваше решение здесь***"
   ]
  },
  {
   "cell_type": "markdown",
   "metadata": {},
   "source": [
    " Пусть $p(y_i = 1 | x_i) = p , а p(y_i = 0 | x_i) = 1 - p$ . Тогда :\n",
    " \n",
    "$$ E(L|x_i) = -p * log(a(x_i)) - (1 - p) * log(1 - a(x_i)) $$\n",
    "$$ E'(L|x_i) = -\\frac{p}{a(x_i)} + \\frac{1 - p}{1 - a(x_i)} = \\frac{a(x_i) - p}{a(x_i)*(1 - a(x_i))} $$\n",
    "$ E'(L|x_i) = 0$, при $a(x_i) = p = p(y_i = 1 | x_i)$ ; $ < 0$ при $a(x_i) < p$ ; $ > 0$ при $ a > p$\n",
    "\n",
    "Таким образом $ a(x_i) = p(y_i = 1| x_i)$ -- точка минимума $E(L|x_i)$."
   ]
  },
  {
   "cell_type": "markdown",
   "metadata": {},
   "source": [
    "Задача 5.  Смысл регуляризации.\n",
    "\n",
    "Нужно ли в L1/L2 регуляризации использовать свободный член $w_0$ (который не умножается ни на какой признак)?\n",
    "\n",
    "Подсказка: подумайте, для чего мы вводим $w_0$"
   ]
  },
  {
   "cell_type": "markdown",
   "metadata": {},
   "source": [
    "***Ваше решение здесь***"
   ]
  },
  {
   "cell_type": "markdown",
   "metadata": {},
   "source": [
    "Нет, не нужно. $w_0$ -- это начальный сдвиг, который обозначает значение $y$ при $x = 0$, поэтому не должен учитываться в регуляризации(поскольку он константный и относится лишь к неизменяемому столбцу признаков)."
   ]
  },
  {
   "cell_type": "markdown",
   "metadata": {},
   "source": [
    "#  Реализация линейной модели (4 балла)"
   ]
  },
  {
   "cell_type": "markdown",
   "metadata": {},
   "source": [
    "## Зачем нужны батчи?\n"
   ]
  },
  {
   "cell_type": "markdown",
   "metadata": {},
   "source": [
    "Как Вы могли заметить из теоретического введения, что в случае SGD, что в случа mini-batch GD,  на каждой итерации обновление весов  происходит только по небольшой части данных (1 пример в случае SGD, batch примеров в случае mini-batch). То есть для каждой итерации нам *** не нужна вся выборка***. Мы можем просто итерироваться по выборке, беря батч нужного размера (далее 1 объект тоже будем называть батчом).\n",
    "\n",
    "Легко заметить, что в этом случае нам не нужно загружать все данные в оперативную память, достаточно просто считать батч с диска, обновить веса, считать диска другой батч и так далее. В целях упрощения домашней работы, прямо с диска  мы считывать не будем, будем работать с обычными numpy array. \n",
    "\n",
    "\n",
    "\n"
   ]
  },
  {
   "cell_type": "markdown",
   "metadata": {},
   "source": [
    "## Немножко про генераторы в Python\n",
    "\n"
   ]
  },
  {
   "cell_type": "markdown",
   "metadata": {},
   "source": [
    "Идея считывания данных кусками удачно ложится на так называемые ***генераторы*** из языка Python. В данной работе Вам предлагается не только разобраться с логистической регрессией, но  и познакомиться с таким важным элементом языка.  При желании Вы можете убрать весь код, связанный с генераторами, и реализовать логистическую регрессию и без них, ***штрафоваться это никак не будет***. Главное, чтобы сама модель была реализована правильно, и все пункты были выполнены. \n",
    "\n",
    "Подробнее можно почитать вот тут https://anandology.com/python-practice-book/iterators.html\n"
   ]
  },
  {
   "cell_type": "markdown",
   "metadata": {},
   "source": [
    "К генератору стоит относиться просто как к функции, которая порождает не один объект, а целую последовательность объектов. Новое значение из последовательности генерируется с помощью ключевого слова ***yield***. Ниже Вы можете насладиться  генератором чисел Фибоначчи."
   ]
  },
  {
   "cell_type": "code",
   "execution_count": 2,
   "metadata": {},
   "outputs": [],
   "source": [
    "def fib(max_iter=4):\n",
    "    a, b = 0, 1\n",
    "    iter_num = 0\n",
    "    while 1:\n",
    "        yield a\n",
    "        a, b = b, a + b\n",
    "        iter_num += 1\n",
    "        if iter_num == max_iter:\n",
    "            break"
   ]
  },
  {
   "cell_type": "markdown",
   "metadata": {},
   "source": [
    "Вот так можно сгенерировать последовательность Фибоначчи. \n",
    "\n",
    "Заметьте, что к генераторам можно применять некоторые стандартные функции из Python, например enumerate."
   ]
  },
  {
   "cell_type": "code",
   "execution_count": 3,
   "metadata": {},
   "outputs": [
    {
     "name": "stdout",
     "output_type": "stream",
     "text": [
      "Fib num: 0 fib values: 0\n",
      "Fib num: 1 fib values: 1\n",
      "Fib num: 2 fib values: 1\n",
      "Fib num: 3 fib values: 2\n"
     ]
    }
   ],
   "source": [
    "new_generator = fib()\n",
    "for j, fib_val in enumerate(new_generator):\n",
    "    print (\"Fib num: \" + str(j) + \" fib values: \" + str(fib_val))"
   ]
  },
  {
   "cell_type": "markdown",
   "metadata": {},
   "source": [
    "Пересоздавая объект, можно сколько угодно раз генерировать заново последовательность. "
   ]
  },
  {
   "cell_type": "code",
   "execution_count": 4,
   "metadata": {},
   "outputs": [
    {
     "name": "stdout",
     "output_type": "stream",
     "text": [
      "Fib num: 0 fib values: 0\n",
      "Fib num: 1 fib values: 1\n",
      "Fib num: 2 fib values: 1\n",
      "Fib num: 3 fib values: 2\n",
      "Fib num: 0 fib values: 0\n",
      "Fib num: 1 fib values: 1\n",
      "Fib num: 2 fib values: 1\n",
      "Fib num: 3 fib values: 2\n",
      "Fib num: 0 fib values: 0\n",
      "Fib num: 1 fib values: 1\n",
      "Fib num: 2 fib values: 1\n",
      "Fib num: 3 fib values: 2\n"
     ]
    }
   ],
   "source": [
    "for i in range(0, 3):\n",
    "    new_generator = fib()\n",
    "    for j, fib_val in enumerate(new_generator):\n",
    "        print (\"Fib num: \" + str(j) + \" fib values: \" + str(fib_val))"
   ]
  },
  {
   "cell_type": "markdown",
   "metadata": {},
   "source": [
    "А вот так уже нельзя."
   ]
  },
  {
   "cell_type": "code",
   "execution_count": 5,
   "metadata": {},
   "outputs": [
    {
     "name": "stdout",
     "output_type": "stream",
     "text": [
      "Fib num: 0 fib values: 0\n",
      "Fib num: 1 fib values: 1\n",
      "Fib num: 2 fib values: 1\n",
      "Fib num: 3 fib values: 2\n"
     ]
    }
   ],
   "source": [
    "new_generator = fib()\n",
    "for i in range(0, 3):\n",
    "    for j, fib_val in enumerate(new_generator):\n",
    "        print (\"Fib num: \" + str(j) + \" fib values: \" + str(fib_val))"
   ]
  },
  {
   "cell_type": "markdown",
   "metadata": {},
   "source": [
    "Концепция крайне удобная для обучения  моделей $-$ у Вас есть некий источник данных, который Вам выдает их кусками, и Вам совершенно все равно откуда он их берет. Под ним может скрывать как массив в оперативной памяти, как файл на жестком диске, так и SQL база данных. Вы сами данные никуда не сохраняете, оперативную память экономите."
   ]
  },
  {
   "cell_type": "markdown",
   "metadata": {},
   "source": [
    "Если Вам понравилась идея с генераторами, то Вы можете реализовать свой, используя прототип batch_generator. В нем Вам нужно выдавать батчи признаков и ответов для каждой новой итерации спуска. Если не понравилась идея, то можете реализовывать SGD или mini-batch GD без генераторов."
   ]
  },
  {
   "cell_type": "code",
   "execution_count": 41,
   "metadata": {},
   "outputs": [],
   "source": [
    "def batch_generator(X, y, shuffle=True, batch_size=1):\n",
    "    \"\"\"\n",
    "    Гератор новых батчей для обучения\n",
    "    X          - матрица объекты-признаки\n",
    "    y_batch    - вектор ответов\n",
    "    shuffle    - нужно ли случайно перемешивать выборку\n",
    "    batch_size - размер батча ( 1 это SGD, > 1 mini-batch GD)\n",
    "    Генерирует подвыборку для итерации спуска (X_batch, y_batch)\n",
    "    \"\"\"\n",
    "    \n",
    "    indices = np.arange(len(y))\n",
    "    if(shuffle):\n",
    "        np.random.shuffle(indices)\n",
    "    batch = []\n",
    "    for i in indices:\n",
    "        batch.append(i)\n",
    "        if(len(batch) == batch_size):\n",
    "            X_batch = X[batch]\n",
    "            y_batch = y[batch]\n",
    "            yield (X_batch, y_batch)\n",
    "            batch = []\n",
    "\n",
    "# Теперь можно сделать генератор по данным ()\n",
    "#  my_batch_generator = batch_generator(X, y, shuffle=True, batch_size=1):"
   ]
  },
  {
   "cell_type": "code",
   "execution_count": 42,
   "metadata": {},
   "outputs": [],
   "source": [
    "#%%pycodestyle\n",
    "\n",
    "def sigmoid(x):\n",
    "    \"\"\"\n",
    "    Вычисляем значение сигмоида.\n",
    "    X - выход линейной модели\n",
    "    \"\"\"\n",
    "\n",
    "    sigm_value_x = 1 / (1 + np.exp(-x))\n",
    "    return sigm_value_x\n",
    "\n",
    "from sklearn.base import BaseEstimator, ClassifierMixin\n",
    "\n",
    "class MySGDClassifier(BaseEstimator, ClassifierMixin):\n",
    "\n",
    "\n",
    "    def __init__(self, batch_generator, C=1, alpha=0.01, max_epoch=10, model_type='lin_reg', batch_size=1):\n",
    "        \"\"\"\n",
    "        batch_generator -- функция генератор, которой будем создавать батчи\n",
    "        C - коэф. регуляризации\n",
    "        alpha - скорость спуска\n",
    "        max_epoch - максимальное количество эпох\n",
    "        model_type - тим модели, lin_reg или log_reg\n",
    "        \"\"\"\n",
    "\n",
    "        self.C = C\n",
    "        self.alpha = alpha\n",
    "        self.max_epoch = max_epoch\n",
    "        self.batch_generator = batch_generator\n",
    "        self.errors_log = {'iter': [], 'loss': []}\n",
    "        self.model_type = model_type\n",
    "        self.batch_size = batch_size\n",
    "\n",
    "    def calc_loss(self, X_batch, y_batch):\n",
    "        \"\"\"\n",
    "        Считаем функцию потерь по батчу\n",
    "        X_batch - матрица объекты-признаки по батчу\n",
    "        y_batch - вектор ответов по батчу\n",
    "        Не забудте тип модели (линейная или логистическая регрессия)!\n",
    "        \"\"\"\n",
    "        reg = np.dot(self.weights[1:], self.weights[1:]) / self.C\n",
    "        n = X_batch.shape[0]\n",
    "        scalar = np.dot(X_batch, self.weights)\n",
    "        if(self.model_type == 'lin_reg'):\n",
    "            loss = (1 / n) * np.sum(np.power(y_batch - scalar, 2)) + reg\n",
    "        elif(self.model_type == 'log_reg'):\n",
    "            pred = sigmoid(scalar)\n",
    "            loss = (np.sum(y_batch * np.log2(pred) + (1 - y_batch) * np.log2(1 - pred)) / (-n)) + reg\n",
    "        return loss\n",
    "\n",
    "    def calc_loss_grad(self, X_batch, y_batch):\n",
    "        \"\"\"\n",
    "        Считаем  градиент функции потерь по батчу (то что Вы вывели в задании 1)\n",
    "        X_batch - матрица объекты-признаки по батчу\n",
    "        y_batch - вектор ответов по батчу\n",
    "        Не забудте тип модели (линейная или логистическая регрессия)!\n",
    "        \"\"\"\n",
    "        reg_grad = (2 * np.array([0, *self.weights[1:]])) / self.C\n",
    "        scalar = np.dot(X_batch, self.weights)\n",
    "        n = y_batch.shape[0]\n",
    "        loss_grad = 0\n",
    "        if(self.model_type == 'lin_reg'):\n",
    "            loss_grad = 2 * (np.dot((scalar - y_batch), X_batch) / n) + reg_grad\n",
    "            loss_grad = loss_grad\n",
    "        elif(self.model_type == 'log_reg'):\n",
    "            pred = sigmoid(scalar)\n",
    "            loss_grad = (np.dot((y_batch - pred), X_batch) / (-n)) + reg_grad\n",
    "        return loss_grad\n",
    "\n",
    "    def update_weights(self, new_grad):\n",
    "        \"\"\"\n",
    "        Обновляем вектор весов\n",
    "        new_grad - градиент по батчу\n",
    "        \"\"\"\n",
    "        self.weights = self.weights - self.alpha * new_grad\n",
    "\n",
    "    def fit(self, X, y):\n",
    "        '''\n",
    "        Обучение модели\n",
    "        X - матрица объекты-признаки\n",
    "        y - вектор ответов\n",
    "        '''\n",
    "\n",
    "        X = np.hstack((np.ones((X.shape[0], 1)), X))\n",
    "        # Нужно инициализровать случайно веса\n",
    "        self.weights = 0.5 * np.random.randn(X.shape[1])\n",
    "        for n in range(0, self.max_epoch):\n",
    "            new_epoch_generator = self.batch_generator(X, y, shuffle=True, batch_size=self.batch_size)\n",
    "            for batch_num, new_batch in enumerate(new_epoch_generator):\n",
    "                X_batch = new_batch[0]\n",
    "                y_batch = new_batch[1]\n",
    "                batch_grad = self.calc_loss_grad(X_batch, y_batch)\n",
    "                batch_loss = self.calc_loss(X_batch, y_batch)\n",
    "                self.update_weights(batch_grad)\n",
    "                # Подумайте в каком месте стоит посчитать ошибку для отладки модели\n",
    "                # До градиентного шага или после\n",
    "                self.errors_log['iter'].append(batch_num)\n",
    "                self.errors_log['loss'].append(batch_loss)\n",
    "        return self\n",
    "\n",
    "    def predict(self, X):\n",
    "        '''\n",
    "        Предсказание класса\n",
    "        X - матрица объекты-признаки\n",
    "        Не забудте тип модели (линейная или логистическая регрессия)!\n",
    "        '''\n",
    "\n",
    "        X = np.hstack((np.ones((X.shape[0], 1)), X))\n",
    "        if(self.model_type == 'lin_reg'):\n",
    "            y_hat = np.dot(X, self.weights)\n",
    "        elif(self.model_type == 'log_reg'):\n",
    "            y_hat = sigmoid(np.dot(X, self.weights))\n",
    "        # Желательно здесь использовать матричные операции между X и весами, например, numpy.dot\n",
    "        return y_hat\n"
   ]
  },
  {
   "cell_type": "markdown",
   "metadata": {},
   "source": [
    "Запустите обе регрессии на синтетических данных. \n",
    "\n",
    "\n",
    "Выведите полученные веса и нарисуйте разделяющую границу между классами (используйте только первых два веса для первых двух признаков X[:,0], X[:,1] для отображения в 2d пространство ).  "
   ]
  },
  {
   "cell_type": "code",
   "execution_count": 4,
   "metadata": {},
   "outputs": [],
   "source": [
    "def plot_decision_boundary(clf):\n",
    "    weights = clf.weights\n",
    "    x = np.linspace(-6, 8)\n",
    "    y = ((-1)*(weights[1] * x + weights[0])) / weights[2]\n",
    "    plt.plot(x, y, label='model = {}'.format(clf.model_type))"
   ]
  },
  {
   "cell_type": "code",
   "execution_count": 5,
   "metadata": {},
   "outputs": [
    {
     "name": "stdout",
     "output_type": "stream",
     "text": [
      "[-1.61248291  0.53578605 -0.28763406]\n"
     ]
    },
    {
     "data": {
      "image/png": "[encoded data removed]",
      "text/plain": [
       "<Figure size 864x360 with 1 Axes>"
      ]
     },
     "metadata": {},
     "output_type": "display_data"
    }
   ],
   "source": [
    "np.random.seed(0)\n",
    "\n",
    "C1 = np.array([[0., -0.8], [1.5, 0.8]])\n",
    "C2 = np.array([[1., -0.7], [2., 0.7]])\n",
    "gauss1 = np.dot(np.random.randn(200, 2) + np.array([5, 3]), C1)\n",
    "gauss2 = np.dot(np.random.randn(200, 2) + np.array([1.5, 0]), C2)\n",
    "\n",
    "X = np.vstack([gauss1, gauss2])\n",
    "y = np.r_[np.ones(200), np.zeros(200)]\n",
    "\n",
    "my_model = MySGDClassifier(batch_generator, C=200, alpha=0.03, max_epoch=30, model_type='lin_reg', batch_size=30)\n",
    "my_model.fit(X,2 * y - 1)\n",
    "#my_model.fit(X,y)\n",
    "plot_decision_boundary(my_model)\n",
    "\n",
    "my_model = MySGDClassifier(batch_generator, C=200, alpha=0.05, max_epoch=30, model_type='log_reg', batch_size=30)\n",
    "my_model.fit(X,y)\n",
    "plot_decision_boundary(my_model)\n",
    "\n",
    "plt.scatter(X[:,0], X[:,1], c=y)\n",
    "plt.legend()\n",
    "plt.show()"
   ]
  },
  {
   "cell_type": "markdown",
   "metadata": {},
   "source": [
    "Далее будем анализировать Ваш алгоритм. \n",
    "Для этих заданий используйте датасет ниже."
   ]
  },
  {
   "cell_type": "code",
   "execution_count": 5,
   "metadata": {},
   "outputs": [],
   "source": [
    "from sklearn.datasets import make_classification"
   ]
  },
  {
   "cell_type": "code",
   "execution_count": 6,
   "metadata": {},
   "outputs": [],
   "source": [
    "X, y = make_classification(n_samples=100000, n_features=10, \n",
    "                           n_informative=4, n_redundant=0, \n",
    "                           random_state=123, class_sep=1.0,\n",
    "                           n_clusters_per_class=1)"
   ]
  },
  {
   "cell_type": "markdown",
   "metadata": {},
   "source": [
    "Покажите сходимости обеих регрессией на этом датасете: изобразите график  функции потерь, усредненной по $N$ шагам градиентого спуска, для разных `alpha` (размеров шага). Разные `alpha` расположите на одном графике. \n",
    "\n",
    "$N$ можно брать 10, 50, 100 и т.д. "
   ]
  },
  {
   "cell_type": "code",
   "execution_count": 7,
   "metadata": {},
   "outputs": [],
   "source": [
    "N = 100"
   ]
  },
  {
   "cell_type": "code",
   "execution_count": 8,
   "metadata": {},
   "outputs": [
    {
     "name": "stdout",
     "output_type": "stream",
     "text": [
      "0.01\n",
      "0.055\n",
      "0.09999999999999999\n",
      "0.14500000000000002\n",
      "0.19\n",
      "Wall time: 7.67 s\n"
     ]
    }
   ],
   "source": [
    "%%time\n",
    "alpha_loss_log = []\n",
    "alpha_mas = np.linspace(0.01, 0.19, 5)\n",
    "for i in alpha_mas:\n",
    "    model = MySGDClassifier(batch_generator, C=200,alpha=i,max_epoch=20, model_type='lin_reg', batch_size=100)\n",
    "    model.fit(X, y)\n",
    "    loss = np.array(model.errors_log['loss'])\n",
    "    mean = []\n",
    "    for j in range(len(loss) // N):\n",
    "        mean.append(np.mean(loss[j*N:(j+1)*N]))\n",
    "    alpha_loss_log.append((mean, i))\n",
    "    print(i)"
   ]
  },
  {
   "cell_type": "code",
   "execution_count": 9,
   "metadata": {},
   "outputs": [
    {
     "data": {
      "text/plain": [
       "<matplotlib.legend.Legend at 0x141f81e7550>"
      ]
     },
     "execution_count": 9,
     "metadata": {},
     "output_type": "execute_result"
    },
    {
     "data": {
      "image/png": "[encoded data removed]",
      "text/plain": [
       "<Figure size 864x360 with 1 Axes>"
      ]
     },
     "metadata": {},
     "output_type": "display_data"
    }
   ],
   "source": [
    "#fig = plt.figure(figsize=(15,8))\n",
    "for i in alpha_loss_log:\n",
    "    plt.plot(i[0][::25], label='a={}'.format(i[1]))\n",
    "plt.legend()"
   ]
  },
  {
   "cell_type": "code",
   "execution_count": 10,
   "metadata": {},
   "outputs": [
    {
     "name": "stdout",
     "output_type": "stream",
     "text": [
      "0.01\n",
      "0.2575\n",
      "0.505\n",
      "0.7525\n",
      "1.0\n"
     ]
    }
   ],
   "source": [
    "alpha_loss_log = []\n",
    "alpha_mas = np.linspace(0.01, 1, 5)\n",
    "for i in alpha_mas:\n",
    "    model = MySGDClassifier(batch_generator, C=200,alpha=i,max_epoch=20, model_type='log_reg', batch_size=100)\n",
    "    model.fit(X, y)\n",
    "    loss = np.array(model.errors_log['loss'])\n",
    "    mean = []\n",
    "    for j in range(len(loss) // N):\n",
    "        mean.append(np.mean(loss[j*N:(j+1)*N]))\n",
    "    alpha_loss_log.append((mean,i))\n",
    "    print(i)"
   ]
  },
  {
   "cell_type": "code",
   "execution_count": 11,
   "metadata": {},
   "outputs": [
    {
     "data": {
      "text/plain": [
       "<matplotlib.legend.Legend at 0x141f85830d0>"
      ]
     },
     "execution_count": 11,
     "metadata": {},
     "output_type": "execute_result"
    },
    {
     "data": {
      "image/png": "[encoded data removed]",
      "text/plain": [
       "<Figure size 1080x576 with 1 Axes>"
      ]
     },
     "metadata": {},
     "output_type": "display_data"
    }
   ],
   "source": [
    "fig = plt.figure(figsize=(15,8))\n",
    "ax = plt.subplot()\n",
    "for i in alpha_loss_log:\n",
    "    ax.plot(i[0][::10],label='a={}'.format(i[1]))\n",
    "plt.legend()"
   ]
  },
  {
   "cell_type": "markdown",
   "metadata": {},
   "source": [
    "Что Вы можете сказать про сходимость метода при различных `alpha`? Какое значение стоит выбирать для лучшей сходимости?"
   ]
  },
  {
   "cell_type": "markdown",
   "metadata": {},
   "source": [
    "*Лучше выбирать alpha где-то около 0.2*\n",
    "*Т.к. при слишком больших alpha(в районе 1) слишком болшие потери, а при слишком маленьких alpha(в районе 0.01) нужно слишком много эпох для сходимости*"
   ]
  },
  {
   "cell_type": "markdown",
   "metadata": {},
   "source": [
    "Изобразите график среднего значения весов для обеих регрессий в зависимости от коеф. регуляризации С из `np.logspace(3, -3, 10)` "
   ]
  },
  {
   "cell_type": "code",
   "execution_count": 12,
   "metadata": {},
   "outputs": [],
   "source": [
    "reg_coef = np.logspace(3, -3, 10)"
   ]
  },
  {
   "cell_type": "code",
   "execution_count": 13,
   "metadata": {},
   "outputs": [
    {
     "name": "stderr",
     "output_type": "stream",
     "text": [
      "C:\\Users\\artemii\\anaconda3\\lib\\site-packages\\numpy\\core\\fromnumeric.py:90: RuntimeWarning: overflow encountered in reduce\n",
      "  return ufunc.reduce(obj, axis, dtype, out, **passkwargs)\n",
      "<ipython-input-3-eede3a720d6c>:45: RuntimeWarning: overflow encountered in power\n",
      "  loss = (1 / n) * np.sum(np.power(y_batch - scalar, 2)) + reg\n",
      "<ipython-input-3-eede3a720d6c>:41: RuntimeWarning: overflow encountered in double_scalars\n",
      "  reg = np.dot(self.weights[1:], self.weights[1:]) / self.C\n",
      "<ipython-input-3-eede3a720d6c>:48: RuntimeWarning: divide by zero encountered in log2\n",
      "  loss = (np.sum(y_batch * np.log2(pred) + (1 - y_batch) * np.log2(1 - pred)) / (-n)) + reg\n",
      "<ipython-input-3-eede3a720d6c>:48: RuntimeWarning: invalid value encountered in multiply\n",
      "  loss = (np.sum(y_batch * np.log2(pred) + (1 - y_batch) * np.log2(1 - pred)) / (-n)) + reg\n",
      "<ipython-input-3-eede3a720d6c>:10: RuntimeWarning: overflow encountered in exp\n",
      "  sigm_value_x = 1 / (1 + np.exp(-x))\n",
      "<ipython-input-3-eede3a720d6c>:58: RuntimeWarning: overflow encountered in true_divide\n",
      "  reg_grad = (2 * np.array([0, *self.weights[1:]])) / self.C\n"
     ]
    },
    {
     "name": "stdout",
     "output_type": "stream",
     "text": [
      "Wall time: 1min 46s\n"
     ]
    }
   ],
   "source": [
    "%%time\n",
    "weights_lin = []\n",
    "weights_log = []\n",
    "for coef in reg_coef:\n",
    "    my_model = MySGDClassifier(batch_generator, C=coef, alpha=0.1, max_epoch=100, model_type='lin_reg',batch_size=1000)\n",
    "    my_model.fit(X,y)\n",
    "    weights_lin.append(np.mean(my_model.weights))\n",
    "    my_model = MySGDClassifier(batch_generator, C=coef, alpha=0.1, max_epoch=100, model_type='log_reg',batch_size=1000)\n",
    "    my_model.fit(X,y)\n",
    "    weights_log.append(np.mean(my_model.weights))"
   ]
  },
  {
   "cell_type": "code",
   "execution_count": 14,
   "metadata": {},
   "outputs": [
    {
     "data": {
      "text/plain": [
       "[0.03447797261842061,\n",
       " 0.033980545772552585,\n",
       " 0.03463439497822981,\n",
       " 0.03583700294471856,\n",
       " 0.03707432712999426,\n",
       " 0.04086312833690475,\n",
       " nan,\n",
       " nan,\n",
       " nan,\n",
       " nan]"
      ]
     },
     "execution_count": 14,
     "metadata": {},
     "output_type": "execute_result"
    }
   ],
   "source": [
    "weights_lin"
   ]
  },
  {
   "cell_type": "code",
   "execution_count": 15,
   "metadata": {},
   "outputs": [
    {
     "data": {
      "text/plain": [
       "[-0.04515663051409674,\n",
       " -0.03122975603257128,\n",
       " -0.02637498904778414,\n",
       " -0.024586575097435736,\n",
       " -0.01898797673084847,\n",
       " -0.007328577487381715,\n",
       " 50.75974472524156,\n",
       " nan,\n",
       " nan,\n",
       " nan]"
      ]
     },
     "execution_count": 15,
     "metadata": {},
     "output_type": "execute_result"
    }
   ],
   "source": [
    "weights_log"
   ]
  },
  {
   "cell_type": "code",
   "execution_count": 16,
   "metadata": {},
   "outputs": [
    {
     "data": {
      "image/png": "[encoded data removed]",
      "text/plain": [
       "<Figure size 864x360 with 1 Axes>"
      ]
     },
     "metadata": {},
     "output_type": "display_data"
    }
   ],
   "source": [
    "plt.plot(reg_coef[:-4], np.array(weights_lin)[:-4], label='lin reg, mean weights')\n",
    "plt.legend()\n",
    "plt.show()"
   ]
  },
  {
   "cell_type": "code",
   "execution_count": 17,
   "metadata": {},
   "outputs": [
    {
     "data": {
      "image/png": "[encoded data removed]",
      "text/plain": [
       "<Figure size 864x360 with 1 Axes>"
      ]
     },
     "metadata": {},
     "output_type": "display_data"
    }
   ],
   "source": [
    "plt.plot(reg_coef[:-4], np.array(weights_log)[:-4], label='log reg, mean weights')\n",
    "plt.legend()\n",
    "plt.show()"
   ]
  },
  {
   "cell_type": "markdown",
   "metadata": {},
   "source": [
    "Довольны ли Вы, насколько сильно уменьшились Ваши веса? "
   ]
  },
  {
   "cell_type": "markdown",
   "metadata": {},
   "source": [
    "# Боевое применение (4  балла)\n",
    "\n",
    "**Защита данной части возможна только при преодолении в проекте бейзлайна Handmade baseline.**"
   ]
  },
  {
   "cell_type": "markdown",
   "metadata": {},
   "source": [
    "Давайте применим модель на итоговом проекте! Датасет сделаем точно таким же образом, как было показано в project_overview.ipynb\n",
    "\n",
    "Применим обе регрессии, подберем для них параметры и сравним качество. Может быть Вы еще одновременно с решением домашней работы подрастете на лидерборде!"
   ]
  },
  {
   "cell_type": "code",
   "execution_count": 43,
   "metadata": {},
   "outputs": [
    {
     "name": "stdout",
     "output_type": "stream",
     "text": [
      "28026\n"
     ]
    }
   ],
   "source": [
    "doc_to_title = {}\n",
    "with open('docs_titles.tsv', encoding='utf-8') as f:\n",
    "    for num_line, line in enumerate(f):\n",
    "        if num_line == 0:\n",
    "            continue\n",
    "        data = line.strip().split('\\t', 1)\n",
    "        doc_id = int(data[0])\n",
    "        if len(data) == 1:\n",
    "            title = ''\n",
    "        else:\n",
    "            title = data[1]\n",
    "        doc_to_title[doc_id] = title\n",
    "print (len(doc_to_title))\n"
   ]
  },
  {
   "cell_type": "code",
   "execution_count": 44,
   "metadata": {},
   "outputs": [],
   "source": [
    "import pandas as pd\n",
    "train_data = pd.read_csv('train_groups.csv')\n",
    "traingroups_titledata = {}\n",
    "for i in range(len(train_data)):\n",
    "    new_doc = train_data.iloc[i]\n",
    "    doc_group = new_doc['group_id']\n",
    "    doc_id = new_doc['doc_id']\n",
    "    target = new_doc['target']\n",
    "    title = doc_to_title[doc_id]\n",
    "    if doc_group not in traingroups_titledata:\n",
    "        traingroups_titledata[doc_group] = []\n",
    "    traingroups_titledata[doc_group].append((doc_id, title, target))"
   ]
  },
  {
   "cell_type": "code",
   "execution_count": 45,
   "metadata": {},
   "outputs": [
    {
     "name": "stdout",
     "output_type": "stream",
     "text": [
      "(11690, 15) (11690,) (11690,)\n"
     ]
    }
   ],
   "source": [
    "import numpy as np\n",
    "y_train = []\n",
    "X_train = []\n",
    "groups_train = []\n",
    "for new_group in traingroups_titledata:\n",
    "    docs = traingroups_titledata[new_group]\n",
    "    for k, (doc_id, title, target_id) in enumerate(docs):\n",
    "        y_train.append(target_id)\n",
    "        groups_train.append(new_group)\n",
    "        all_dist = []\n",
    "        words = set(title.strip().split())\n",
    "        for j in range(0, len(docs)):\n",
    "            if k == j:\n",
    "                continue\n",
    "            doc_id_j, title_j, target_j = docs[j]\n",
    "            words_j = set(title_j.strip().split())\n",
    "            all_dist.append(len(words.intersection(words_j)))\n",
    "        X_train.append(sorted(all_dist, reverse=True)[0:15]    )\n",
    "X_train = np.array(X_train)\n",
    "y_train = np.array(y_train)\n",
    "groups_train = np.array(groups_train)\n",
    "print (X_train.shape, y_train.shape, groups_train.shape)"
   ]
  },
  {
   "cell_type": "markdown",
   "metadata": {},
   "source": [
    "Подберите размер батча для обучения. Линейная модель не должна учиться дольше нескольких минут. \n",
    "\n",
    "Не забывайте использовать скейлер!"
   ]
  },
  {
   "cell_type": "code",
   "execution_count": 46,
   "metadata": {},
   "outputs": [],
   "source": [
    "from sklearn.metrics import f1_score\n",
    "from sklearn.linear_model import LinearRegression\n",
    "from sklearn.preprocessing import StandardScaler\n",
    "from sklearn.model_selection import KFold"
   ]
  },
  {
   "cell_type": "code",
   "execution_count": 47,
   "metadata": {},
   "outputs": [],
   "source": [
    "test_data = pd.read_csv('test_groups.csv')\n",
    "testgroups_titledata = {}\n",
    "for i in range(len(test_data)):\n",
    "    new_doc = test_data.iloc[i]\n",
    "    doc_group_t = new_doc['group_id']\n",
    "    doc_id_t = new_doc['doc_id']\n",
    "    title_t = doc_to_title[doc_id_t]\n",
    "    if doc_group_t not in testgroups_titledata:\n",
    "        testgroups_titledata[doc_group_t] = []\n",
    "    testgroups_titledata[doc_group_t].append((doc_id_t, title_t))"
   ]
  },
  {
   "cell_type": "code",
   "execution_count": 48,
   "metadata": {},
   "outputs": [
    {
     "name": "stdout",
     "output_type": "stream",
     "text": [
      "(16627, 15) (16627,)\n"
     ]
    }
   ],
   "source": [
    "import numpy as np\n",
    "X_test = []\n",
    "groups_test = []\n",
    "for new_group in testgroups_titledata:\n",
    "    docs = testgroups_titledata[new_group]\n",
    "    for k, (doc_id, title) in enumerate(docs):\n",
    "        groups_test.append(new_group)\n",
    "        all_dist = []\n",
    "        words = set(title.strip().split())\n",
    "        for j in range(0, len(docs)):\n",
    "            if k == j:\n",
    "                continue\n",
    "            doc_id_j, title_j, = docs[j]\n",
    "            words_j = set(title_j.strip().split())\n",
    "            all_dist.append(len(words.intersection(words_j)))\n",
    "        X_test.append(sorted(all_dist, reverse=True)[0:15]    )\n",
    "X_test = np.array(X_test)\n",
    "groups_test = np.array(groups_test)\n",
    "print (X_test.shape, groups_test.shape)"
   ]
  },
  {
   "cell_type": "code",
   "execution_count": 49,
   "metadata": {},
   "outputs": [],
   "source": [
    "#batch_size = 200"
   ]
  },
  {
   "cell_type": "markdown",
   "metadata": {},
   "source": [
    "Разбейте данные на обучение и валидацию. Подберите параметры C, alpha, max_epoch, model_type на валидации (Вы же помните, как правильно в этой задаче делать валидацию?)"
   ]
  },
  {
   "cell_type": "code",
   "execution_count": 50,
   "metadata": {},
   "outputs": [],
   "source": [
    "def splitt(data, n=10, shuffle=True):\n",
    "    cv = KFold(n_splits=n, shuffle=shuffle)\n",
    "    for train_ind, test_ind in cv.split(range(1,130)):\n",
    "        ind_train = []\n",
    "        ind_test = []\n",
    "        for j in train_ind:\n",
    "            for i in enumerate(data):\n",
    "                if(j == i[1]):\n",
    "                    ind_train.append(i[0])\n",
    "        for j in test_ind:\n",
    "            for i in enumerate(data):\n",
    "                if(j == i[1]):\n",
    "                    ind_test.append(i[0])\n",
    "        yield np.asarray(ind_train), np.asarray(ind_test)"
   ]
  },
  {
   "cell_type": "code",
   "execution_count": 62,
   "metadata": {},
   "outputs": [],
   "source": [
    "def cv_score(data, groups, border, params):\n",
    "    result = []\n",
    "    score = []\n",
    "    for train_ind, test_ind in splitt(groups):\n",
    "        C, alpha, max_epoch, model_type = params\n",
    "        clf = MySGDClassifier(batch_generator, C=C, alpha=alpha, batch_size=200, max_epoch=max_epoch, model_type=model_type)\n",
    "        X_train, X_test = data[0][train_ind], data[0][test_ind]\n",
    "        y_train, y_test = data[1][train_ind], data[1][test_ind]\n",
    "        clf.fit(X_train, y_train)\n",
    "        pred = clf.predict(X_test)\n",
    "        pred = np.asarray([1 if i > border else 0 for i in pred])\n",
    "        score.append(f1_score(pred, y_test))\n",
    "    result.append(np.asarray(score).mean())\n",
    "    return result"
   ]
  },
  {
   "cell_type": "code",
   "execution_count": 52,
   "metadata": {},
   "outputs": [],
   "source": [
    "my_scale = StandardScaler()"
   ]
  },
  {
   "cell_type": "code",
   "execution_count": 53,
   "metadata": {},
   "outputs": [],
   "source": [
    "X_train = my_scale.fit_transform(X_train)\n",
    "X_test = my_scale.transform(X_test)"
   ]
  },
  {
   "cell_type": "code",
   "execution_count": 54,
   "metadata": {},
   "outputs": [],
   "source": [
    "dictionary = {'C' : [i * 200 for i in range(1, 11, 2)], 'alpha': [0.001, 0.01, 0.1, 0.05, 0.005, 0.03],\n",
    "              'max_epoch': [10, 20, 30 ,40, 50]}"
   ]
  },
  {
   "cell_type": "code",
   "execution_count": 56,
   "metadata": {},
   "outputs": [
    {
     "name": "stdout",
     "output_type": "stream",
     "text": [
      "[200, 0.001, 10, 'log_reg']\n",
      "[200, 0.001, 10, 'lin_reg']\n",
      "[200, 0.001, 20, 'log_reg']\n",
      "[200, 0.001, 20, 'lin_reg']\n",
      "[200, 0.001, 30, 'log_reg']\n",
      "[200, 0.001, 30, 'lin_reg']\n",
      "[200, 0.001, 40, 'log_reg']\n",
      "[200, 0.001, 40, 'lin_reg']\n",
      "[200, 0.001, 50, 'log_reg']\n",
      "[200, 0.001, 50, 'lin_reg']\n",
      "[200, 0.01, 10, 'log_reg']\n",
      "[200, 0.01, 10, 'lin_reg']\n",
      "[200, 0.01, 20, 'log_reg']\n",
      "[200, 0.01, 20, 'lin_reg']\n",
      "[200, 0.01, 30, 'log_reg']\n",
      "[200, 0.01, 30, 'lin_reg']\n",
      "[200, 0.01, 40, 'log_reg']\n",
      "[200, 0.01, 40, 'lin_reg']\n",
      "[200, 0.01, 50, 'log_reg']\n",
      "[200, 0.01, 50, 'lin_reg']\n",
      "[200, 0.1, 10, 'log_reg']\n",
      "[200, 0.1, 10, 'lin_reg']\n",
      "[200, 0.1, 20, 'log_reg']\n"
     ]
    },
    {
     "name": "stderr",
     "output_type": "stream",
     "text": [
      "C:\\Users\\artemii\\anaconda3\\lib\\site-packages\\numpy\\core\\fromnumeric.py:90: RuntimeWarning: overflow encountered in reduce\n",
      "  return ufunc.reduce(obj, axis, dtype, out, **passkwargs)\n",
      "<ipython-input-42-eede3a720d6c>:45: RuntimeWarning: overflow encountered in power\n",
      "  loss = (1 / n) * np.sum(np.power(y_batch - scalar, 2)) + reg\n"
     ]
    },
    {
     "name": "stdout",
     "output_type": "stream",
     "text": [
      "[200, 0.1, 20, 'lin_reg']\n",
      "[200, 0.1, 30, 'log_reg']\n",
      "[200, 0.1, 30, 'lin_reg']\n",
      "[200, 0.1, 40, 'log_reg']\n"
     ]
    },
    {
     "name": "stderr",
     "output_type": "stream",
     "text": [
      "<ipython-input-42-eede3a720d6c>:75: RuntimeWarning: invalid value encountered in subtract\n",
      "  self.weights = self.weights - self.alpha * new_grad\n"
     ]
    },
    {
     "name": "stdout",
     "output_type": "stream",
     "text": [
      "[200, 0.1, 40, 'lin_reg']\n",
      "[200, 0.1, 50, 'log_reg']\n",
      "[200, 0.1, 50, 'lin_reg']\n",
      "[200, 0.05, 10, 'log_reg']\n",
      "[200, 0.05, 10, 'lin_reg']\n",
      "[200, 0.05, 20, 'log_reg']\n",
      "[200, 0.05, 20, 'lin_reg']\n",
      "[200, 0.05, 30, 'log_reg']\n",
      "[200, 0.05, 30, 'lin_reg']\n",
      "[200, 0.05, 40, 'log_reg']\n",
      "[200, 0.05, 40, 'lin_reg']\n",
      "[200, 0.05, 50, 'log_reg']\n",
      "[200, 0.05, 50, 'lin_reg']\n",
      "[200, 0.005, 10, 'log_reg']\n",
      "[200, 0.005, 10, 'lin_reg']\n",
      "[200, 0.005, 20, 'log_reg']\n",
      "[200, 0.005, 20, 'lin_reg']\n",
      "[200, 0.005, 30, 'log_reg']\n",
      "[200, 0.005, 30, 'lin_reg']\n",
      "[200, 0.005, 40, 'log_reg']\n",
      "[200, 0.005, 40, 'lin_reg']\n",
      "[200, 0.005, 50, 'log_reg']\n",
      "[200, 0.005, 50, 'lin_reg']\n",
      "[200, 0.03, 10, 'log_reg']\n",
      "[200, 0.03, 10, 'lin_reg']\n",
      "[200, 0.03, 20, 'log_reg']\n",
      "[200, 0.03, 20, 'lin_reg']\n",
      "[200, 0.03, 30, 'log_reg']\n",
      "[200, 0.03, 30, 'lin_reg']\n",
      "[200, 0.03, 40, 'log_reg']\n",
      "[200, 0.03, 40, 'lin_reg']\n",
      "[200, 0.03, 50, 'log_reg']\n",
      "[200, 0.03, 50, 'lin_reg']\n",
      "[600, 0.001, 10, 'log_reg']\n",
      "[600, 0.001, 10, 'lin_reg']\n",
      "[600, 0.001, 20, 'log_reg']\n",
      "[600, 0.001, 20, 'lin_reg']\n",
      "[600, 0.001, 30, 'log_reg']\n",
      "[600, 0.001, 30, 'lin_reg']\n",
      "[600, 0.001, 40, 'log_reg']\n",
      "[600, 0.001, 40, 'lin_reg']\n",
      "[600, 0.001, 50, 'log_reg']\n",
      "[600, 0.001, 50, 'lin_reg']\n",
      "[600, 0.01, 10, 'log_reg']\n",
      "[600, 0.01, 10, 'lin_reg']\n",
      "[600, 0.01, 20, 'log_reg']\n",
      "[600, 0.01, 20, 'lin_reg']\n",
      "[600, 0.01, 30, 'log_reg']\n",
      "[600, 0.01, 30, 'lin_reg']\n",
      "[600, 0.01, 40, 'log_reg']\n",
      "[600, 0.01, 40, 'lin_reg']\n",
      "[600, 0.01, 50, 'log_reg']\n",
      "[600, 0.01, 50, 'lin_reg']\n",
      "[600, 0.1, 10, 'log_reg']\n",
      "[600, 0.1, 10, 'lin_reg']\n",
      "[600, 0.1, 20, 'log_reg']\n",
      "[600, 0.1, 20, 'lin_reg']\n",
      "[600, 0.1, 30, 'log_reg']\n",
      "[600, 0.1, 30, 'lin_reg']\n",
      "[600, 0.1, 40, 'log_reg']\n",
      "[600, 0.1, 40, 'lin_reg']\n",
      "[600, 0.1, 50, 'log_reg']\n",
      "[600, 0.1, 50, 'lin_reg']\n",
      "[600, 0.05, 10, 'log_reg']\n",
      "[600, 0.05, 10, 'lin_reg']\n",
      "[600, 0.05, 20, 'log_reg']\n",
      "[600, 0.05, 20, 'lin_reg']\n",
      "[600, 0.05, 30, 'log_reg']\n",
      "[600, 0.05, 30, 'lin_reg']\n",
      "[600, 0.05, 40, 'log_reg']\n",
      "[600, 0.05, 40, 'lin_reg']\n",
      "[600, 0.05, 50, 'log_reg']\n",
      "[600, 0.05, 50, 'lin_reg']\n",
      "[600, 0.005, 10, 'log_reg']\n",
      "[600, 0.005, 10, 'lin_reg']\n",
      "[600, 0.005, 20, 'log_reg']\n",
      "[600, 0.005, 20, 'lin_reg']\n",
      "[600, 0.005, 30, 'log_reg']\n",
      "[600, 0.005, 30, 'lin_reg']\n",
      "[600, 0.005, 40, 'log_reg']\n",
      "[600, 0.005, 40, 'lin_reg']\n",
      "[600, 0.005, 50, 'log_reg']\n",
      "[600, 0.005, 50, 'lin_reg']\n",
      "[600, 0.03, 10, 'log_reg']\n",
      "[600, 0.03, 10, 'lin_reg']\n",
      "[600, 0.03, 20, 'log_reg']\n",
      "[600, 0.03, 20, 'lin_reg']\n",
      "[600, 0.03, 30, 'log_reg']\n",
      "[600, 0.03, 30, 'lin_reg']\n",
      "[600, 0.03, 40, 'log_reg']\n",
      "[600, 0.03, 40, 'lin_reg']\n",
      "[600, 0.03, 50, 'log_reg']\n",
      "[600, 0.03, 50, 'lin_reg']\n",
      "[1000, 0.001, 10, 'log_reg']\n",
      "[1000, 0.001, 10, 'lin_reg']\n",
      "[1000, 0.001, 20, 'log_reg']\n",
      "[1000, 0.001, 20, 'lin_reg']\n",
      "[1000, 0.001, 30, 'log_reg']\n",
      "[1000, 0.001, 30, 'lin_reg']\n",
      "[1000, 0.001, 40, 'log_reg']\n",
      "[1000, 0.001, 40, 'lin_reg']\n",
      "[1000, 0.001, 50, 'log_reg']\n",
      "[1000, 0.001, 50, 'lin_reg']\n",
      "[1000, 0.01, 10, 'log_reg']\n",
      "[1000, 0.01, 10, 'lin_reg']\n",
      "[1000, 0.01, 20, 'log_reg']\n",
      "[1000, 0.01, 20, 'lin_reg']\n",
      "[1000, 0.01, 30, 'log_reg']\n",
      "[1000, 0.01, 30, 'lin_reg']\n",
      "[1000, 0.01, 40, 'log_reg']\n",
      "[1000, 0.01, 40, 'lin_reg']\n",
      "[1000, 0.01, 50, 'log_reg']\n",
      "[1000, 0.01, 50, 'lin_reg']\n",
      "[1000, 0.1, 10, 'log_reg']\n",
      "[1000, 0.1, 10, 'lin_reg']\n",
      "[1000, 0.1, 20, 'log_reg']\n",
      "[1000, 0.1, 20, 'lin_reg']\n",
      "[1000, 0.1, 30, 'log_reg']\n",
      "[1000, 0.1, 30, 'lin_reg']\n",
      "[1000, 0.1, 40, 'log_reg']\n",
      "[1000, 0.1, 40, 'lin_reg']\n",
      "[1000, 0.1, 50, 'log_reg']\n",
      "[1000, 0.1, 50, 'lin_reg']\n",
      "[1000, 0.05, 10, 'log_reg']\n",
      "[1000, 0.05, 10, 'lin_reg']\n",
      "[1000, 0.05, 20, 'log_reg']\n",
      "[1000, 0.05, 20, 'lin_reg']\n",
      "[1000, 0.05, 30, 'log_reg']\n",
      "[1000, 0.05, 30, 'lin_reg']\n",
      "[1000, 0.05, 40, 'log_reg']\n",
      "[1000, 0.05, 40, 'lin_reg']\n",
      "[1000, 0.05, 50, 'log_reg']\n",
      "[1000, 0.05, 50, 'lin_reg']\n",
      "[1000, 0.005, 10, 'log_reg']\n",
      "[1000, 0.005, 10, 'lin_reg']\n",
      "[1000, 0.005, 20, 'log_reg']\n",
      "[1000, 0.005, 20, 'lin_reg']\n",
      "[1000, 0.005, 30, 'log_reg']\n",
      "[1000, 0.005, 30, 'lin_reg']\n",
      "[1000, 0.005, 40, 'log_reg']\n",
      "[1000, 0.005, 40, 'lin_reg']\n",
      "[1000, 0.005, 50, 'log_reg']\n",
      "[1000, 0.005, 50, 'lin_reg']\n",
      "[1000, 0.03, 10, 'log_reg']\n",
      "[1000, 0.03, 10, 'lin_reg']\n",
      "[1000, 0.03, 20, 'log_reg']\n",
      "[1000, 0.03, 20, 'lin_reg']\n",
      "[1000, 0.03, 30, 'log_reg']\n",
      "[1000, 0.03, 30, 'lin_reg']\n",
      "[1000, 0.03, 40, 'log_reg']\n",
      "[1000, 0.03, 40, 'lin_reg']\n",
      "[1000, 0.03, 50, 'log_reg']\n",
      "[1000, 0.03, 50, 'lin_reg']\n",
      "[1400, 0.001, 10, 'log_reg']\n",
      "[1400, 0.001, 10, 'lin_reg']\n",
      "[1400, 0.001, 20, 'log_reg']\n",
      "[1400, 0.001, 20, 'lin_reg']\n",
      "[1400, 0.001, 30, 'log_reg']\n",
      "[1400, 0.001, 30, 'lin_reg']\n",
      "[1400, 0.001, 40, 'log_reg']\n",
      "[1400, 0.001, 40, 'lin_reg']\n",
      "[1400, 0.001, 50, 'log_reg']\n",
      "[1400, 0.001, 50, 'lin_reg']\n",
      "[1400, 0.01, 10, 'log_reg']\n",
      "[1400, 0.01, 10, 'lin_reg']\n",
      "[1400, 0.01, 20, 'log_reg']\n",
      "[1400, 0.01, 20, 'lin_reg']\n",
      "[1400, 0.01, 30, 'log_reg']\n",
      "[1400, 0.01, 30, 'lin_reg']\n",
      "[1400, 0.01, 40, 'log_reg']\n",
      "[1400, 0.01, 40, 'lin_reg']\n",
      "[1400, 0.01, 50, 'log_reg']\n",
      "[1400, 0.01, 50, 'lin_reg']\n",
      "[1400, 0.1, 10, 'log_reg']\n",
      "[1400, 0.1, 10, 'lin_reg']\n",
      "[1400, 0.1, 20, 'log_reg']\n",
      "[1400, 0.1, 20, 'lin_reg']\n",
      "[1400, 0.1, 30, 'log_reg']\n",
      "[1400, 0.1, 30, 'lin_reg']\n",
      "[1400, 0.1, 40, 'log_reg']\n",
      "[1400, 0.1, 40, 'lin_reg']\n",
      "[1400, 0.1, 50, 'log_reg']\n",
      "[1400, 0.1, 50, 'lin_reg']\n",
      "[1400, 0.05, 10, 'log_reg']\n",
      "[1400, 0.05, 10, 'lin_reg']\n",
      "[1400, 0.05, 20, 'log_reg']\n",
      "[1400, 0.05, 20, 'lin_reg']\n",
      "[1400, 0.05, 30, 'log_reg']\n",
      "[1400, 0.05, 30, 'lin_reg']\n",
      "[1400, 0.05, 40, 'log_reg']\n",
      "[1400, 0.05, 40, 'lin_reg']\n",
      "[1400, 0.05, 50, 'log_reg']\n",
      "[1400, 0.05, 50, 'lin_reg']\n",
      "[1400, 0.005, 10, 'log_reg']\n",
      "[1400, 0.005, 10, 'lin_reg']\n",
      "[1400, 0.005, 20, 'log_reg']\n",
      "[1400, 0.005, 20, 'lin_reg']\n",
      "[1400, 0.005, 30, 'log_reg']\n",
      "[1400, 0.005, 30, 'lin_reg']\n",
      "[1400, 0.005, 40, 'log_reg']\n",
      "[1400, 0.005, 40, 'lin_reg']\n",
      "[1400, 0.005, 50, 'log_reg']\n",
      "[1400, 0.005, 50, 'lin_reg']\n",
      "[1400, 0.03, 10, 'log_reg']\n",
      "[1400, 0.03, 10, 'lin_reg']\n",
      "[1400, 0.03, 20, 'log_reg']\n",
      "[1400, 0.03, 20, 'lin_reg']\n",
      "[1400, 0.03, 30, 'log_reg']\n",
      "[1400, 0.03, 30, 'lin_reg']\n",
      "[1400, 0.03, 40, 'log_reg']\n",
      "[1400, 0.03, 40, 'lin_reg']\n",
      "[1400, 0.03, 50, 'log_reg']\n",
      "[1400, 0.03, 50, 'lin_reg']\n",
      "[1800, 0.001, 10, 'log_reg']\n",
      "[1800, 0.001, 10, 'lin_reg']\n",
      "[1800, 0.001, 20, 'log_reg']\n",
      "[1800, 0.001, 20, 'lin_reg']\n",
      "[1800, 0.001, 30, 'log_reg']\n",
      "[1800, 0.001, 30, 'lin_reg']\n",
      "[1800, 0.001, 40, 'log_reg']\n",
      "[1800, 0.001, 40, 'lin_reg']\n",
      "[1800, 0.001, 50, 'log_reg']\n",
      "[1800, 0.001, 50, 'lin_reg']\n",
      "[1800, 0.01, 10, 'log_reg']\n",
      "[1800, 0.01, 10, 'lin_reg']\n",
      "[1800, 0.01, 20, 'log_reg']\n",
      "[1800, 0.01, 20, 'lin_reg']\n",
      "[1800, 0.01, 30, 'log_reg']\n",
      "[1800, 0.01, 30, 'lin_reg']\n",
      "[1800, 0.01, 40, 'log_reg']\n",
      "[1800, 0.01, 40, 'lin_reg']\n",
      "[1800, 0.01, 50, 'log_reg']\n",
      "[1800, 0.01, 50, 'lin_reg']\n",
      "[1800, 0.1, 10, 'log_reg']\n",
      "[1800, 0.1, 10, 'lin_reg']\n",
      "[1800, 0.1, 20, 'log_reg']\n",
      "[1800, 0.1, 20, 'lin_reg']\n",
      "[1800, 0.1, 30, 'log_reg']\n",
      "[1800, 0.1, 30, 'lin_reg']\n",
      "[1800, 0.1, 40, 'log_reg']\n",
      "[1800, 0.1, 40, 'lin_reg']\n",
      "[1800, 0.1, 50, 'log_reg']\n",
      "[1800, 0.1, 50, 'lin_reg']\n",
      "[1800, 0.05, 10, 'log_reg']\n",
      "[1800, 0.05, 10, 'lin_reg']\n",
      "[1800, 0.05, 20, 'log_reg']\n",
      "[1800, 0.05, 20, 'lin_reg']\n",
      "[1800, 0.05, 30, 'log_reg']\n",
      "[1800, 0.05, 30, 'lin_reg']\n",
      "[1800, 0.05, 40, 'log_reg']\n",
      "[1800, 0.05, 40, 'lin_reg']\n",
      "[1800, 0.05, 50, 'log_reg']\n",
      "[1800, 0.05, 50, 'lin_reg']\n",
      "[1800, 0.005, 10, 'log_reg']\n",
      "[1800, 0.005, 10, 'lin_reg']\n",
      "[1800, 0.005, 20, 'log_reg']\n",
      "[1800, 0.005, 20, 'lin_reg']\n",
      "[1800, 0.005, 30, 'log_reg']\n",
      "[1800, 0.005, 30, 'lin_reg']\n",
      "[1800, 0.005, 40, 'log_reg']\n",
      "[1800, 0.005, 40, 'lin_reg']\n",
      "[1800, 0.005, 50, 'log_reg']\n",
      "[1800, 0.005, 50, 'lin_reg']\n",
      "[1800, 0.03, 10, 'log_reg']\n",
      "[1800, 0.03, 10, 'lin_reg']\n",
      "[1800, 0.03, 20, 'log_reg']\n",
      "[1800, 0.03, 20, 'lin_reg']\n",
      "[1800, 0.03, 30, 'log_reg']\n",
      "[1800, 0.03, 30, 'lin_reg']\n",
      "[1800, 0.03, 40, 'log_reg']\n",
      "[1800, 0.03, 40, 'lin_reg']\n",
      "[1800, 0.03, 50, 'log_reg']\n",
      "[1800, 0.03, 50, 'lin_reg']\n",
      "Wall time: 2h 3min 40s\n"
     ]
    }
   ],
   "source": [
    "%%time\n",
    "best_score = 0\n",
    "test_params = np.empty((5, 6, 5, 2))\n",
    "for j, C in enumerate(dictionary['C']):\n",
    "    for k , alpha in enumerate(dictionary['alpha']):\n",
    "        for l, max_epoch in enumerate(dictionary['max_epoch']):\n",
    "            model_type = 'log_reg'\n",
    "            params = [C, alpha, max_epoch, model_type]\n",
    "            ress = cv_score((X_train, y_train), groups_train, params)\n",
    "            test_params[j][k][l][0] = ress[0]\n",
    "            print(params)\n",
    "            model_type = 'lin_reg'\n",
    "            params = [C, alpha, max_epoch, model_type]\n",
    "            ress = cv_score((X_train, y_train), groups_train, params)\n",
    "            test_params[j][k][l][1] = ress[0]\n",
    "            print(params)"
   ]
  },
  {
   "cell_type": "code",
   "execution_count": 57,
   "metadata": {},
   "outputs": [],
   "source": [
    "par = np.asarray(test_params)"
   ]
  },
  {
   "cell_type": "code",
   "execution_count": 58,
   "metadata": {},
   "outputs": [
    {
     "data": {
      "text/plain": [
       "(2, 4, 1, 0)"
      ]
     },
     "execution_count": 58,
     "metadata": {},
     "output_type": "execute_result"
    }
   ],
   "source": [
    "np.unravel_index(np.argmax(par), par.shape)"
   ]
  },
  {
   "cell_type": "code",
   "execution_count": 60,
   "metadata": {},
   "outputs": [
    {
     "data": {
      "text/plain": [
       "(1000, 0.005, 20, 'log_reg')"
      ]
     },
     "execution_count": 60,
     "metadata": {},
     "output_type": "execute_result"
    }
   ],
   "source": [
    "(dictionary['C'][2], dictionary['alpha'][4], dictionary['max_epoch'][1], 'log_reg')"
   ]
  },
  {
   "cell_type": "code",
   "execution_count": 63,
   "metadata": {},
   "outputs": [
    {
     "data": {
      "text/plain": [
       "0.5961701552874745"
      ]
     },
     "execution_count": 63,
     "metadata": {},
     "output_type": "execute_result"
    }
   ],
   "source": [
    "np.max(par)"
   ]
  },
  {
   "cell_type": "markdown",
   "metadata": {},
   "source": [
    "Лучшие параметры: C=1000 , alpha = 0.005 , max_epoch = 20 , model_type = 'log_reg', batch_size = 200"
   ]
  },
  {
   "cell_type": "markdown",
   "metadata": {
    "collapsed": true
   },
   "source": [
    "Подберите порог линейной модели, по достижении которого, Вы будете относить объект к классу 1. Вспомните, какую метрику мы оптимизируем в соревновании.  Как тогда правильно подобрать порог?"
   ]
  },
  {
   "cell_type": "code",
   "execution_count": 67,
   "metadata": {},
   "outputs": [],
   "source": [
    "bord_list = [i * 0.05 for i in range(1, 21)]"
   ]
  },
  {
   "cell_type": "code",
   "execution_count": 68,
   "metadata": {},
   "outputs": [
    {
     "name": "stdout",
     "output_type": "stream",
     "text": [
      "0.05\n",
      "0.1\n",
      "0.15000000000000002\n",
      "0.2\n",
      "0.25\n",
      "0.30000000000000004\n",
      "0.35000000000000003\n",
      "0.4\n",
      "0.45\n",
      "0.5\n",
      "0.55\n",
      "0.6000000000000001\n",
      "0.65\n",
      "0.7000000000000001\n",
      "0.75\n",
      "0.8\n",
      "0.8500000000000001\n",
      "0.9\n",
      "0.9500000000000001\n",
      "1.0\n"
     ]
    }
   ],
   "source": [
    "bord_res = []\n",
    "best_params = [1000, 0.005, 20, 'log_reg']\n",
    "for j in bord_list:\n",
    "    cur_res = cv_score((X_train, y_train), groups_train, j, best_params)\n",
    "    bord_res.append(cur_res)\n",
    "    print(j)"
   ]
  },
  {
   "cell_type": "code",
   "execution_count": 75,
   "metadata": {},
   "outputs": [
    {
     "data": {
      "text/plain": [
       "0.4"
      ]
     },
     "execution_count": 75,
     "metadata": {},
     "output_type": "execute_result"
    }
   ],
   "source": [
    "bord_res = np.asarray(bord_res)\n",
    "bord_list = np.asarray(bord_list)\n",
    "bord_list[np.unravel_index(np.argmax(bord_res), bord_res.shape)]"
   ]
  },
  {
   "cell_type": "markdown",
   "metadata": {},
   "source": [
    "Лучшая граница : 0.4"
   ]
  },
  {
   "cell_type": "markdown",
   "metadata": {},
   "source": [
    "С лучшими параметрами на валидации сделайте предсказание на тестовом множестве, отправьте его на проверку на платформу kaggle. Убедитесь, что Вы смогли побить public score первого бейзлайна."
   ]
  },
  {
   "cell_type": "code",
   "execution_count": 76,
   "metadata": {},
   "outputs": [],
   "source": [
    "final_model = MySGDClassifier(batch_generator, C=1000, alpha=0.005, batch_size=200, max_epoch=20, model_type='log_reg')"
   ]
  },
  {
   "cell_type": "code",
   "execution_count": 77,
   "metadata": {},
   "outputs": [
    {
     "data": {
      "text/plain": [
       "MySGDClassifier(C=1000, alpha=0.005,\n",
       "                batch_generator=<function batch_generator at 0x00000141FB33FDC0>,\n",
       "                batch_size=200, max_epoch=20, model_type='log_reg')"
      ]
     },
     "execution_count": 77,
     "metadata": {},
     "output_type": "execute_result"
    }
   ],
   "source": [
    "final_model.fit(X_train, y_train)"
   ]
  },
  {
   "cell_type": "code",
   "execution_count": 78,
   "metadata": {},
   "outputs": [],
   "source": [
    "final_result = final_model.predict(X_test)"
   ]
  },
  {
   "cell_type": "code",
   "execution_count": 79,
   "metadata": {},
   "outputs": [],
   "source": [
    "final_result = np.asarray([1 if i > 0.4 else 0 for i in final_result])"
   ]
  },
  {
   "cell_type": "code",
   "execution_count": 80,
   "metadata": {},
   "outputs": [],
   "source": [
    "pair_ids = np.asarray([test_data.iloc[i]['pair_id'] for i in range(len(final_result))])"
   ]
  },
  {
   "cell_type": "code",
   "execution_count": 81,
   "metadata": {},
   "outputs": [],
   "source": [
    "pd_res = pd.DataFrame({'pair_id': pair_ids, 'target': final_result})"
   ]
  },
  {
   "cell_type": "code",
   "execution_count": 82,
   "metadata": {},
   "outputs": [
    {
     "data": {
      "text/html": [
       "<div>\n",
       "<style scoped>\n",
       "    .dataframe tbody tr th:only-of-type {\n",
       "        vertical-align: middle;\n",
       "    }\n",
       "\n",
       "    .dataframe tbody tr th {\n",
       "        vertical-align: top;\n",
       "    }\n",
       "\n",
       "    .dataframe thead th {\n",
       "        text-align: right;\n",
       "    }\n",
       "</style>\n",
       "<table border=\"1\" class=\"dataframe\">\n",
       "  <thead>\n",
       "    <tr style=\"text-align: right;\">\n",
       "      <th></th>\n",
       "      <th>pair_id</th>\n",
       "      <th>target</th>\n",
       "    </tr>\n",
       "  </thead>\n",
       "  <tbody>\n",
       "    <tr>\n",
       "      <th>0</th>\n",
       "      <td>11691</td>\n",
       "      <td>0</td>\n",
       "    </tr>\n",
       "    <tr>\n",
       "      <th>1</th>\n",
       "      <td>11692</td>\n",
       "      <td>0</td>\n",
       "    </tr>\n",
       "    <tr>\n",
       "      <th>2</th>\n",
       "      <td>11693</td>\n",
       "      <td>1</td>\n",
       "    </tr>\n",
       "    <tr>\n",
       "      <th>3</th>\n",
       "      <td>11694</td>\n",
       "      <td>1</td>\n",
       "    </tr>\n",
       "    <tr>\n",
       "      <th>4</th>\n",
       "      <td>11695</td>\n",
       "      <td>1</td>\n",
       "    </tr>\n",
       "    <tr>\n",
       "      <th>...</th>\n",
       "      <td>...</td>\n",
       "      <td>...</td>\n",
       "    </tr>\n",
       "    <tr>\n",
       "      <th>16622</th>\n",
       "      <td>28313</td>\n",
       "      <td>0</td>\n",
       "    </tr>\n",
       "    <tr>\n",
       "      <th>16623</th>\n",
       "      <td>28314</td>\n",
       "      <td>0</td>\n",
       "    </tr>\n",
       "    <tr>\n",
       "      <th>16624</th>\n",
       "      <td>28315</td>\n",
       "      <td>1</td>\n",
       "    </tr>\n",
       "    <tr>\n",
       "      <th>16625</th>\n",
       "      <td>28316</td>\n",
       "      <td>1</td>\n",
       "    </tr>\n",
       "    <tr>\n",
       "      <th>16626</th>\n",
       "      <td>28317</td>\n",
       "      <td>1</td>\n",
       "    </tr>\n",
       "  </tbody>\n",
       "</table>\n",
       "<p>16627 rows × 2 columns</p>\n",
       "</div>"
      ],
      "text/plain": [
       "       pair_id  target\n",
       "0        11691       0\n",
       "1        11692       0\n",
       "2        11693       1\n",
       "3        11694       1\n",
       "4        11695       1\n",
       "...        ...     ...\n",
       "16622    28313       0\n",
       "16623    28314       0\n",
       "16624    28315       1\n",
       "16625    28316       1\n",
       "16626    28317       1\n",
       "\n",
       "[16627 rows x 2 columns]"
      ]
     },
     "execution_count": 82,
     "metadata": {},
     "output_type": "execute_result"
    }
   ],
   "source": [
    "pd_res"
   ]
  },
  {
   "cell_type": "code",
   "execution_count": 83,
   "metadata": {},
   "outputs": [],
   "source": [
    "pd_res.to_csv('my_prediction.csv', index=False)"
   ]
  },
  {
   "cell_type": "markdown",
   "metadata": {
    "collapsed": true
   },
   "source": [
    "** При сдаче домашки Вам необходимо кроме ссылки на ноутбук показать Ваш ник на kaggle, под которым Вы залили решение, которое побило Handmade baseline. **"
   ]
  },
  {
   "cell_type": "markdown",
   "metadata": {
    "collapsed": true
   },
   "source": [
    "https://www.kaggle.com/artemygolikov Artemy Golikov"
   ]
  },
  {
   "cell_type": "markdown",
   "metadata": {},
   "source": [
    "# Фидбек (бесценно)"
   ]
  },
  {
   "cell_type": "markdown",
   "metadata": {},
   "source": [
    "* Какие аспекты обучения линейных моделей Вам показались непонятными? Какое место стоит дополнительно объяснить?"
   ]
  },
  {
   "cell_type": "markdown",
   "metadata": {},
   "source": [
    "***Ваше ответ здесь***"
   ]
  },
  {
   "cell_type": "markdown",
   "metadata": {},
   "source": [
    "* Здесь Вы можете оставить отзыв о этой домашней работе или о всем курсе.   "
   ]
  },
  {
   "cell_type": "markdown",
   "metadata": {},
   "source": [
    "*** ВАШ ОТЗЫВ ЗДЕСЬ***"
   ]
  },
  {
   "cell_type": "markdown",
   "metadata": {
    "collapsed": true
   },
   "source": [
    "Хотелось бы больше информации об эффективном подборе параметров, больше практики (например как на лекции по svm), также побольше бы рассказать про регуляризации."
   ]
  }
 ],
 "metadata": {
  "anaconda-cloud": {},
  "kernelspec": {
   "display_name": "Python 3",
   "language": "python",
   "name": "python3"
  },
  "language_info": {
   "codemirror_mode": {
    "name": "ipython",
    "version": 3
   },
   "file_extension": ".py",
   "mimetype": "text/x-python",
   "name": "python",
   "nbconvert_exporter": "python",
   "pygments_lexer": "ipython3",
   "version": "3.8.3"
  },
  "nav_menu": {},
  "toc": {
   "colors": {
    "hover_highlight": "#DAA520",
    "navigate_num": "#000000",
    "navigate_text": "#333333",
    "running_highlight": "#FF0000",
    "selected_highlight": "#FFD700",
    "sidebar_border": "#EEEEEE",
    "wrapper_background": "#FFFFFF"
   },
   "moveMenuLeft": true,
   "nav_menu": {
    "height": "402px",
    "width": "253px"
   },
   "navigate_menu": true,
   "number_sections": false,
   "sideBar": true,
   "threshold": 4,
   "toc_cell": false,
   "toc_section_display": "block",
   "toc_window_display": true,
   "widenNotebook": false
  }
 },
 "nbformat": 4,
 "nbformat_minor": 2
}
